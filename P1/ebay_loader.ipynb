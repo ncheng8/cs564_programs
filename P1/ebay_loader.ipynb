{
 "cells": [
  {
   "cell_type": "code",
   "execution_count": 1,
   "metadata": {},
   "outputs": [
    {
     "data": {
      "text/plain": [
       "u'Connected: @./ebay.db'"
      ]
     },
     "execution_count": 1,
     "metadata": {},
     "output_type": "execute_result"
    }
   ],
   "source": [
    "%load_ext sql\n",
    "%sql sqlite:///./ebay.db"
   ]
  },
  {
   "cell_type": "code",
   "execution_count": null,
   "metadata": {},
   "outputs": [],
   "source": [
    "%sql PRAGMA table_info(Items)"
   ]
  },
  {
   "cell_type": "code",
   "execution_count": null,
   "metadata": {},
   "outputs": [],
   "source": [
    "%%sql\n",
    "DROP TABLE IF EXISTS Items;\n",
    "DROP TABLE IF EXISTS Users;\n",
    "DROP TABLE IF EXISTS Bids;\n",
    "DROP TABLE IF EXISTS Categories;\n",
    "\n",
    "CREATE TABLE Items (\n",
    "    itemID INTEGER PRIMARY KEY,\n",
    "    name TEXT,\n",
    "    currently FLOAT,\n",
    "    startBid FLOAT,\n",
    "    numBids INTEGER,\n",
    "    startTime TEXT,\n",
    "    endTime TEXT,\n",
    "    itemDesc TEXT,    \n",
    "    buyoutPrice FLOAT,    \n",
    "    sellerID TEXT,\n",
    "    FOREIGN KEY (sellerID) REFERENCES Users(userID)    \n",
    ");\n",
    "\n",
    "CREATE TABLE Users (\n",
    "    userID TEXT PRIMARY KEY,\n",
    "    rating INTEGER,\n",
    "    location TEXT,\n",
    "    country TEXT   \n",
    ");\n",
    "\n",
    "CREATE TABLE Bids (\n",
    "    bidderID TEXT,\n",
    "    itemID INTEGER,\n",
    "    time TEXT,\n",
    "    amount FLOAT,\n",
    "    FOREIGN KEY (bidderID) REFERENCES Users(userID),\n",
    "    FOREIGN KEY (itemID) REFERENCES Items(itemID)\n",
    ");\n",
    "\n",
    "CREATE TABLE Categories (\n",
    "    itemID INTEGER,\n",
    "    name TEXT,\n",
    "    FOREIGN KEY (itemID) REFERENCES Items(itemID)\n",
    ");\n",
    "\n",
    "PRAGMA table_info(Items);\n",
    "PRAGMA table_info(Users);\n",
    "PRAGMA table_info(Bids);\n",
    "PRAGMA table_info(Categories);\n"
   ]
  },
  {
   "cell_type": "code",
   "execution_count": null,
   "metadata": {},
   "outputs": [],
   "source": [
    "%%sql\n",
    "SELECT *\n",
    "FROM Users\n",
    "LIMIT 10\n"
   ]
  },
  {
   "cell_type": "code",
   "execution_count": 15,
   "metadata": {},
   "outputs": [
    {
     "name": "stdout",
     "output_type": "stream",
     "text": [
      " * sqlite:///./ebay.db\n",
      "Done.\n"
     ]
    },
    {
     "data": {
      "text/html": [
       "<table>\n",
       "    <tr>\n",
       "        <th>Count(*)</th>\n",
       "    </tr>\n",
       "    <tr>\n",
       "        <td>13422</td>\n",
       "    </tr>\n",
       "</table>"
      ],
      "text/plain": [
       "[(13422,)]"
      ]
     },
     "execution_count": 15,
     "metadata": {},
     "output_type": "execute_result"
    }
   ],
   "source": [
    "%%sql\n",
    "-- Query 1\n",
    "SELECT Count(*)\n",
    "FROM Users\n"
   ]
  },
  {
   "cell_type": "code",
   "execution_count": 16,
   "metadata": {},
   "outputs": [
    {
     "name": "stdout",
     "output_type": "stream",
     "text": [
      " * sqlite:///./ebay.db\n",
      "Done.\n"
     ]
    },
    {
     "data": {
      "text/html": [
       "<table>\n",
       "    <tr>\n",
       "        <th>Count(*)</th>\n",
       "    </tr>\n",
       "    <tr>\n",
       "        <td>80</td>\n",
       "    </tr>\n",
       "</table>"
      ],
      "text/plain": [
       "[(80,)]"
      ]
     },
     "execution_count": 16,
     "metadata": {},
     "output_type": "execute_result"
    }
   ],
   "source": [
    "%%sql\n",
    "-- Query 2\n",
    "SELECT Count(*)\n",
    "FROM Users\n",
    "WHERE Users.location = \"New York\""
   ]
  },
  {
   "cell_type": "code",
   "execution_count": 3,
   "metadata": {},
   "outputs": [
    {
     "name": "stdout",
     "output_type": "stream",
     "text": [
      " * sqlite:///./ebay.db\n",
      "Done.\n"
     ]
    },
    {
     "data": {
      "text/html": [
       "<table>\n",
       "    <tr>\n",
       "        <th>COUNT(*)</th>\n",
       "    </tr>\n",
       "    <tr>\n",
       "        <td>8365</td>\n",
       "    </tr>\n",
       "</table>"
      ],
      "text/plain": [
       "[(8365,)]"
      ]
     },
     "execution_count": 3,
     "metadata": {},
     "output_type": "execute_result"
    }
   ],
   "source": [
    "%%sql\n",
    "-- Query 3\n",
    "SELECT COUNT(*)\n",
    "FROM (SELECT COUNT(*) AS numCat\n",
    "FROM Items i, Categories c\n",
    "WHERE i.itemID = c.itemID\n",
    "GROUP BY i.itemID) AS m\n",
    "WHERE m.numCat = 4"
   ]
  },
  {
   "cell_type": "code",
   "execution_count": 44,
   "metadata": {},
   "outputs": [
    {
     "name": "stdout",
     "output_type": "stream",
     "text": [
      " * sqlite:///./ebay.db\n",
      "Done.\n"
     ]
    },
    {
     "data": {
      "text/html": [
       "<table>\n",
       "    <tr>\n",
       "        <th>Auction</th>\n",
       "    </tr>\n",
       "    <tr>\n",
       "        <td>1046871451</td>\n",
       "    </tr>\n",
       "</table>"
      ],
      "text/plain": [
       "[(1046871451,)]"
      ]
     },
     "execution_count": 44,
     "metadata": {},
     "output_type": "execute_result"
    }
   ],
   "source": [
    "%%sql\n",
    "-- Query 4\n",
    "SELECT a.Auction\n",
    "FROM (SELECT MAX(i.currently), itemID AS Auction\n",
    "      FROM Items i) AS a"
   ]
  },
  {
   "cell_type": "code",
   "execution_count": 18,
   "metadata": {},
   "outputs": [
    {
     "name": "stdout",
     "output_type": "stream",
     "text": [
      " * sqlite:///./ebay.db\n",
      "Done.\n"
     ]
    },
    {
     "data": {
      "text/html": [
       "<table>\n",
       "    <tr>\n",
       "        <th>COUNT(*)</th>\n",
       "    </tr>\n",
       "    <tr>\n",
       "        <td>3130</td>\n",
       "    </tr>\n",
       "</table>"
      ],
      "text/plain": [
       "[(3130,)]"
      ]
     },
     "execution_count": 18,
     "metadata": {},
     "output_type": "execute_result"
    }
   ],
   "source": [
    "%%sql\n",
    "--- Query 5\n",
    "SELECT COUNT(*)\n",
    "FROM Users u\n",
    "WHERE u.rating > 1000\n",
    "AND u.userID IN (SELECT i.sellerID\n",
    "                     FROM Items i)"
   ]
  },
  {
   "cell_type": "code",
   "execution_count": 19,
   "metadata": {},
   "outputs": [
    {
     "name": "stdout",
     "output_type": "stream",
     "text": [
      " * sqlite:///./ebay.db\n",
      "Done.\n"
     ]
    },
    {
     "data": {
      "text/html": [
       "<table>\n",
       "    <tr>\n",
       "        <th>COUNT(*)</th>\n",
       "    </tr>\n",
       "    <tr>\n",
       "        <td>6717</td>\n",
       "    </tr>\n",
       "</table>"
      ],
      "text/plain": [
       "[(6717,)]"
      ]
     },
     "execution_count": 19,
     "metadata": {},
     "output_type": "execute_result"
    }
   ],
   "source": [
    "%%sql\n",
    "-- Query 6\n",
    "SELECT COUNT(*)\n",
    "FROM Users u\n",
    "WHERE u.userID IN (SELECT i.sellerID\n",
    "                   FROM Items i)\n",
    "AND u.userID IN (SELECT b.bidderID\n",
    "                   FROM Bids b)"
   ]
  },
  {
   "cell_type": "code",
   "execution_count": 2,
   "metadata": {},
   "outputs": [
    {
     "name": "stdout",
     "output_type": "stream",
     "text": [
      " * sqlite:///./ebay.db\n",
      "Done.\n"
     ]
    },
    {
     "data": {
      "text/html": [
       "<table>\n",
       "    <tr>\n",
       "        <th>COUNT(DISTINCT c.name)</th>\n",
       "    </tr>\n",
       "    <tr>\n",
       "        <td>150</td>\n",
       "    </tr>\n",
       "</table>"
      ],
      "text/plain": [
       "[(150,)]"
      ]
     },
     "execution_count": 2,
     "metadata": {},
     "output_type": "execute_result"
    }
   ],
   "source": [
    "%%sql\n",
    "-- Query 7\n",
    "SELECT COUNT(DISTINCT c.name)\n",
    "FROM Categories c, (SELECT i.itemID idh\n",
    "                   FROM Items i\n",
    "                   WHERE i.currently > 100.00\n",
    "                   AND i.numBids > 0) AS itemList\n",
    "\n",
    "WHERE c.itemID = itemList.idh"
   ]
  },
  {
   "cell_type": "code",
   "execution_count": 35,
   "metadata": {},
   "outputs": [
    {
     "name": "stdout",
     "output_type": "stream",
     "text": [
      " * sqlite:///./ebay.db\n",
      "Done.\n"
     ]
    },
    {
     "data": {
      "text/html": [
       "<table>\n",
       "    <tr>\n",
       "        <th>COUNT(DISTINCT c.name)</th>\n",
       "    </tr>\n",
       "    <tr>\n",
       "        <td>1042</td>\n",
       "    </tr>\n",
       "</table>"
      ],
      "text/plain": [
       "[(1042,)]"
      ]
     },
     "execution_count": 35,
     "metadata": {},
     "output_type": "execute_result"
    }
   ],
   "source": [
    "%%sql\n",
    "SELECT COUNT(DISTINCT c.name)\n",
    "FROM Categories c\n"
   ]
  },
  {
   "cell_type": "code",
   "execution_count": 63,
   "metadata": {},
   "outputs": [
    {
     "name": "stdout",
     "output_type": "stream",
     "text": [
      " * sqlite:///./ebay.db\n",
      "Done.\n"
     ]
    },
    {
     "data": {
      "text/html": [
       "<table>\n",
       "    <tr>\n",
       "        <th>COUNT(DISTINCT c.name)</th>\n",
       "    </tr>\n",
       "    <tr>\n",
       "        <td>719</td>\n",
       "    </tr>\n",
       "</table>"
      ],
      "text/plain": [
       "[(719,)]"
      ]
     },
     "execution_count": 63,
     "metadata": {},
     "output_type": "execute_result"
    }
   ],
   "source": [
    "%%sql\n",
    "SELECT COUNT(DISTINCT c.name)\n",
    "FROM Categories c\n",
    "WHERE c.itemID IN (\n",
    "    SELECT i.itemID\n",
    "    FROM Items i\n",
    "    WHERE i.itemID IN (\n",
    "        SELECT b.itemID\n",
    "        FROM Bids b\n",
    "        WHERE b.amount > 100\n",
    "    )\n",
    ")"
   ]
  },
  {
   "cell_type": "code",
   "execution_count": null,
   "metadata": {},
   "outputs": [],
   "source": []
  }
 ],
 "metadata": {
  "kernelspec": {
   "display_name": "Python 2",
   "language": "python",
   "name": "python2"
  },
  "language_info": {
   "codemirror_mode": {
    "name": "ipython",
    "version": 2
   },
   "file_extension": ".py",
   "mimetype": "text/x-python",
   "name": "python",
   "nbconvert_exporter": "python",
   "pygments_lexer": "ipython2",
   "version": "2.7.15"
  }
 },
 "nbformat": 4,
 "nbformat_minor": 2
}
