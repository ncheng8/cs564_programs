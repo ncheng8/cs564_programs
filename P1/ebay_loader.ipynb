{
 "cells": [
  {
   "cell_type": "code",
   "execution_count": 1,
   "metadata": {},
   "outputs": [
    {
     "data": {
      "text/plain": [
       "u'Connected: @./ebay.db'"
      ]
     },
     "execution_count": 1,
     "metadata": {},
     "output_type": "execute_result"
    }
   ],
   "source": [
    "%load_ext sql\n",
    "%sql sqlite:///./ebay.db"
   ]
  },
  {
   "cell_type": "code",
   "execution_count": null,
   "metadata": {},
   "outputs": [],
   "source": [
    "%sql PRAGMA table_info(Items)"
   ]
  },
  {
   "cell_type": "code",
   "execution_count": null,
   "metadata": {},
   "outputs": [],
   "source": [
    "%%sql\n",
    "DROP TABLE IF EXISTS Items;\n",
    "DROP TABLE IF EXISTS Users;\n",
    "DROP TABLE IF EXISTS Bids;\n",
    "DROP TABLE IF EXISTS Categories;\n",
    "\n",
    "CREATE TABLE Items (\n",
    "    itemID INTEGER PRIMARY KEY,\n",
    "    name TEXT,\n",
    "    currently FLOAT,\n",
    "    startBid FLOAT,\n",
    "    numBids INTEGER,\n",
    "    startTime TEXT,\n",
    "    endTime TEXT,\n",
    "    itemDesc TEXT,    \n",
    "    buyoutPrice FLOAT,    \n",
    "    sellerID TEXT,\n",
    "    FOREIGN KEY (sellerID) REFERENCES Users(userID)    \n",
    ");\n",
    "\n",
    "CREATE TABLE Users (\n",
    "    userID TEXT PRIMARY KEY,\n",
    "    rating INTEGER,\n",
    "    location TEXT,\n",
    "    country TEXT   \n",
    ");\n",
    "\n",
    "CREATE TABLE Bids (\n",
    "    bidderID TEXT,\n",
    "    itemID INTEGER,\n",
    "    time TEXT,\n",
    "    amount FLOAT,\n",
    "    FOREIGN KEY (bidderID) REFERENCES Users(userID),\n",
    "    FOREIGN KEY (itemID) REFERENCES Items(itemID)\n",
    ");\n",
    "\n",
    "CREATE TABLE Categories (\n",
    "    itemID INTEGER,\n",
    "    name TEXT,\n",
    "    FOREIGN KEY (itemID) REFERENCES Items(itemID)\n",
    ");\n",
    "\n",
    "PRAGMA table_info(Items);\n",
    "PRAGMA table_info(Users);\n",
    "PRAGMA table_info(Bids);\n",
    "PRAGMA table_info(Categories);\n"
   ]
  },
  {
   "cell_type": "code",
   "execution_count": null,
   "metadata": {},
   "outputs": [],
   "source": [
    "%%sql\n",
    "SELECT *\n",
    "FROM Users\n",
    "LIMIT 10\n"
   ]
  },
  {
   "cell_type": "code",
   "execution_count": 10,
   "metadata": {},
   "outputs": [
    {
     "name": "stdout",
     "output_type": "stream",
     "text": [
      " * sqlite:///./ebay.db\n",
      "Done.\n"
     ]
    },
    {
     "data": {
      "text/html": [
       "<table>\n",
       "    <tr>\n",
       "        <th>Count(*)</th>\n",
       "    </tr>\n",
       "    <tr>\n",
       "        <td>13422</td>\n",
       "    </tr>\n",
       "</table>"
      ],
      "text/plain": [
       "[(13422,)]"
      ]
     },
     "execution_count": 10,
     "metadata": {},
     "output_type": "execute_result"
    }
   ],
   "source": [
    "%%sql\n",
    "-- Query 1\n",
    "SELECT Count(*)\n",
    "FROM Users\n"
   ]
  },
  {
   "cell_type": "code",
   "execution_count": 9,
   "metadata": {},
   "outputs": [
    {
     "name": "stdout",
     "output_type": "stream",
     "text": [
      " * sqlite:///./ebay.db\n",
      "Done.\n"
     ]
    },
    {
     "data": {
      "text/html": [
       "<table>\n",
       "    <tr>\n",
       "        <th>Count(*)</th>\n",
       "    </tr>\n",
       "    <tr>\n",
       "        <td>80</td>\n",
       "    </tr>\n",
       "</table>"
      ],
      "text/plain": [
       "[(80,)]"
      ]
     },
     "execution_count": 9,
     "metadata": {},
     "output_type": "execute_result"
    }
   ],
   "source": [
    "%%sql\n",
    "-- Query 2\n",
    "SELECT Count(*)\n",
    "FROM Users\n",
    "WHERE Users.location = \"New York\""
   ]
  },
  {
   "cell_type": "code",
   "execution_count": 5,
   "metadata": {},
   "outputs": [
    {
     "name": "stdout",
     "output_type": "stream",
     "text": [
      " * sqlite:///./ebay.db\n",
      "Done.\n"
     ]
    },
    {
     "data": {
      "text/html": [
       "<table>\n",
       "    <tr>\n",
       "        <th>MAX(i.currently)</th>\n",
       "        <th>Auction</th>\n",
       "    </tr>\n",
       "    <tr>\n",
       "        <td>18000.0</td>\n",
       "        <td>1046871451</td>\n",
       "    </tr>\n",
       "</table>"
      ],
      "text/plain": [
       "[(18000.0, 1046871451)]"
      ]
     },
     "execution_count": 5,
     "metadata": {},
     "output_type": "execute_result"
    }
   ],
   "source": [
    "%%sql\n",
    "-- Query 4\n",
    "SELECT MAX(i.currently), itemID AS Auction\n",
    "FROM Items i"
   ]
  },
  {
   "cell_type": "code",
   "execution_count": 12,
   "metadata": {},
   "outputs": [
    {
     "name": "stdout",
     "output_type": "stream",
     "text": [
      " * sqlite:///./ebay.db\n",
      "Done.\n"
     ]
    },
    {
     "data": {
      "text/html": [
       "<table>\n",
       "    <tr>\n",
       "        <th>COUNT(*)</th>\n",
       "    </tr>\n",
       "    <tr>\n",
       "        <td>3130</td>\n",
       "    </tr>\n",
       "</table>"
      ],
      "text/plain": [
       "[(3130,)]"
      ]
     },
     "execution_count": 12,
     "metadata": {},
     "output_type": "execute_result"
    }
   ],
   "source": [
    "%%sql\n",
    "--- Query 5\n",
    "SELECT COUNT(*)\n",
    "FROM Users u\n",
    "WHERE u.rating > 1000\n",
    "AND u.userID IN (SELECT i.sellerID\n",
    "                     FROM Items i)"
   ]
  },
  {
   "cell_type": "code",
   "execution_count": 13,
   "metadata": {},
   "outputs": [
    {
     "name": "stdout",
     "output_type": "stream",
     "text": [
      " * sqlite:///./ebay.db\n",
      "Done.\n"
     ]
    },
    {
     "data": {
      "text/html": [
       "<table>\n",
       "    <tr>\n",
       "        <th>COUNT(*)</th>\n",
       "    </tr>\n",
       "    <tr>\n",
       "        <td>1</td>\n",
       "    </tr>\n",
       "</table>"
      ],
      "text/plain": [
       "[(1,)]"
      ]
     },
     "execution_count": 13,
     "metadata": {},
     "output_type": "execute_result"
    }
   ],
   "source": [
    "%%sql\n",
    "-- Query 6\n",
    "SELECT COUNT(*)\n",
    "FROM Users u\n",
    "WHERE u.userID IN (SELECT i.sellerID\n",
    "                   FROM Items i)\n",
    "AND u.userID IN (SELECT b.bidderID\n",
    "                   FROM Bids b)"
   ]
  },
  {
   "cell_type": "code",
   "execution_count": null,
   "metadata": {},
   "outputs": [],
   "source": []
  }
 ],
 "metadata": {
  "kernelspec": {
   "display_name": "Python 2",
   "language": "python",
   "name": "python2"
  },
  "language_info": {
   "codemirror_mode": {
    "name": "ipython",
    "version": 2
   },
   "file_extension": ".py",
   "mimetype": "text/x-python",
   "name": "python",
   "nbconvert_exporter": "python",
   "pygments_lexer": "ipython2",
   "version": "2.7.15"
  }
 },
 "nbformat": 4,
 "nbformat_minor": 2
}
