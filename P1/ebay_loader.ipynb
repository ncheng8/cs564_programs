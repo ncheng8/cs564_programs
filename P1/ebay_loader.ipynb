{
 "cells": [
  {
   "cell_type": "code",
   "execution_count": 1,
   "metadata": {},
   "outputs": [
    {
     "data": {
      "text/plain": [
       "u'Connected: @./ebay.db'"
      ]
     },
     "execution_count": 1,
     "metadata": {},
     "output_type": "execute_result"
    }
   ],
   "source": [
    "%load_ext sql\n",
    "%sql sqlite:///./ebay.db"
   ]
  },
  {
   "cell_type": "code",
   "execution_count": 2,
   "metadata": {},
   "outputs": [
    {
     "name": "stdout",
     "output_type": "stream",
     "text": [
      " * sqlite:///./ebay.db\n",
      "Done.\n"
     ]
    },
    {
     "data": {
      "text/html": [
       "<table>\n",
       "    <tr>\n",
       "        <th>cid</th>\n",
       "        <th>name</th>\n",
       "        <th>type</th>\n",
       "        <th>notnull</th>\n",
       "        <th>dflt_value</th>\n",
       "        <th>pk</th>\n",
       "    </tr>\n",
       "    <tr>\n",
       "        <td>0</td>\n",
       "        <td>itemID</td>\n",
       "        <td>INTEGER</td>\n",
       "        <td>0</td>\n",
       "        <td>None</td>\n",
       "        <td>1</td>\n",
       "    </tr>\n",
       "    <tr>\n",
       "        <td>1</td>\n",
       "        <td>name</td>\n",
       "        <td>TEXT</td>\n",
       "        <td>0</td>\n",
       "        <td>None</td>\n",
       "        <td>0</td>\n",
       "    </tr>\n",
       "    <tr>\n",
       "        <td>2</td>\n",
       "        <td>currently</td>\n",
       "        <td>FLOAT</td>\n",
       "        <td>0</td>\n",
       "        <td>None</td>\n",
       "        <td>0</td>\n",
       "    </tr>\n",
       "    <tr>\n",
       "        <td>3</td>\n",
       "        <td>startBid</td>\n",
       "        <td>FLOAT</td>\n",
       "        <td>0</td>\n",
       "        <td>None</td>\n",
       "        <td>0</td>\n",
       "    </tr>\n",
       "    <tr>\n",
       "        <td>4</td>\n",
       "        <td>numBids</td>\n",
       "        <td>INTEGER</td>\n",
       "        <td>0</td>\n",
       "        <td>None</td>\n",
       "        <td>0</td>\n",
       "    </tr>\n",
       "    <tr>\n",
       "        <td>5</td>\n",
       "        <td>startTime</td>\n",
       "        <td>TEXT</td>\n",
       "        <td>0</td>\n",
       "        <td>None</td>\n",
       "        <td>0</td>\n",
       "    </tr>\n",
       "    <tr>\n",
       "        <td>6</td>\n",
       "        <td>endTime</td>\n",
       "        <td>TEXT</td>\n",
       "        <td>0</td>\n",
       "        <td>None</td>\n",
       "        <td>0</td>\n",
       "    </tr>\n",
       "    <tr>\n",
       "        <td>7</td>\n",
       "        <td>itemDesc</td>\n",
       "        <td>TEXT</td>\n",
       "        <td>0</td>\n",
       "        <td>None</td>\n",
       "        <td>0</td>\n",
       "    </tr>\n",
       "    <tr>\n",
       "        <td>8</td>\n",
       "        <td>buyoutPrice</td>\n",
       "        <td>FLOAT</td>\n",
       "        <td>0</td>\n",
       "        <td>None</td>\n",
       "        <td>0</td>\n",
       "    </tr>\n",
       "    <tr>\n",
       "        <td>9</td>\n",
       "        <td>sellerID</td>\n",
       "        <td>TEXT</td>\n",
       "        <td>0</td>\n",
       "        <td>None</td>\n",
       "        <td>0</td>\n",
       "    </tr>\n",
       "</table>"
      ],
      "text/plain": [
       "[(0, u'itemID', u'INTEGER', 0, None, 1),\n",
       " (1, u'name', u'TEXT', 0, None, 0),\n",
       " (2, u'currently', u'FLOAT', 0, None, 0),\n",
       " (3, u'startBid', u'FLOAT', 0, None, 0),\n",
       " (4, u'numBids', u'INTEGER', 0, None, 0),\n",
       " (5, u'startTime', u'TEXT', 0, None, 0),\n",
       " (6, u'endTime', u'TEXT', 0, None, 0),\n",
       " (7, u'itemDesc', u'TEXT', 0, None, 0),\n",
       " (8, u'buyoutPrice', u'FLOAT', 0, None, 0),\n",
       " (9, u'sellerID', u'TEXT', 0, None, 0)]"
      ]
     },
     "execution_count": 2,
     "metadata": {},
     "output_type": "execute_result"
    }
   ],
   "source": [
    "%sql PRAGMA table_info(Items)"
   ]
  },
  {
   "cell_type": "code",
   "execution_count": null,
   "metadata": {},
   "outputs": [],
   "source": [
    "%%sql\n",
    ".separator |\n",
    ".import users.dat Users"
   ]
  },
  {
   "cell_type": "code",
   "execution_count": 27,
   "metadata": {},
   "outputs": [
    {
     "name": "stdout",
     "output_type": "stream",
     "text": [
      " * sqlite:///./ebay.db\n",
      "Done.\n",
      "Done.\n",
      "Done.\n",
      "Done.\n",
      "Done.\n",
      "Done.\n",
      "Done.\n",
      "Done.\n",
      "Done.\n",
      "Done.\n",
      "Done.\n",
      "Done.\n"
     ]
    },
    {
     "data": {
      "text/html": [
       "<table>\n",
       "    <tr>\n",
       "        <th>cid</th>\n",
       "        <th>name</th>\n",
       "        <th>type</th>\n",
       "        <th>notnull</th>\n",
       "        <th>dflt_value</th>\n",
       "        <th>pk</th>\n",
       "    </tr>\n",
       "    <tr>\n",
       "        <td>0</td>\n",
       "        <td>itemID</td>\n",
       "        <td>INTEGER</td>\n",
       "        <td>0</td>\n",
       "        <td>None</td>\n",
       "        <td>0</td>\n",
       "    </tr>\n",
       "    <tr>\n",
       "        <td>1</td>\n",
       "        <td>name</td>\n",
       "        <td>TEXT</td>\n",
       "        <td>0</td>\n",
       "        <td>None</td>\n",
       "        <td>0</td>\n",
       "    </tr>\n",
       "</table>"
      ],
      "text/plain": [
       "[(0, u'itemID', u'INTEGER', 0, None, 0), (1, u'name', u'TEXT', 0, None, 0)]"
      ]
     },
     "execution_count": 27,
     "metadata": {},
     "output_type": "execute_result"
    }
   ],
   "source": [
    "%%sql\n",
    "DROP TABLE IF EXISTS Items;\n",
    "DROP TABLE IF EXISTS Users;\n",
    "DROP TABLE IF EXISTS Bids;\n",
    "DROP TABLE IF EXISTS Categories;\n",
    "\n",
    "CREATE TABLE Items (\n",
    "    itemID INTEGER PRIMARY KEY,\n",
    "    name TEXT,\n",
    "    currently FLOAT,\n",
    "    startBid FLOAT,\n",
    "    numBids INTEGER,\n",
    "    startTime TEXT,\n",
    "    endTime TEXT,\n",
    "    itemDesc TEXT,    \n",
    "    buyoutPrice FLOAT,    \n",
    "    sellerID TEXT,\n",
    "    FOREIGN KEY (sellerID) REFERENCES Users(userID)    \n",
    ");\n",
    "\n",
    "CREATE TABLE Users (\n",
    "    userID TEXT PRIMARY KEY,\n",
    "    rating INTEGER,\n",
    "    location TEXT,\n",
    "    country TEXT   \n",
    ");\n",
    "\n",
    "CREATE TABLE Bids (\n",
    "    bidderID TEXT,\n",
    "    itemID INTEGER,\n",
    "    time TEXT,\n",
    "    amount FLOAT,\n",
    "    FOREIGN KEY (bidderID) REFERENCES Users(userID),\n",
    "    FOREIGN KEY (itemID) REFERENCES Items(itemID)\n",
    ");\n",
    "\n",
    "CREATE TABLE Categories (\n",
    "    itemID INTEGER,\n",
    "    name TEXT,\n",
    "    FOREIGN KEY (itemID) REFERENCES Items(itemID)\n",
    ");\n",
    "\n",
    "PRAGMA table_info(Items);\n",
    "PRAGMA table_info(Users);\n",
    "PRAGMA table_info(Bids);\n",
    "PRAGMA table_info(Categories);\n"
   ]
  },
  {
   "cell_type": "code",
   "execution_count": 7,
   "metadata": {},
   "outputs": [
    {
     "name": "stdout",
     "output_type": "stream",
     "text": [
      " * sqlite:///./ebay.db\n",
      "(sqlite3.OperationalError) near \".\": syntax error [SQL: u'.separator |'] (Background on this error at: http://sqlalche.me/e/e3q8)\n",
      " * sqlite:///./ebay.db\n",
      "(sqlite3.OperationalError) near \".\": syntax error [SQL: u'.import items.dat Items'] (Background on this error at: http://sqlalche.me/e/e3q8)\n"
     ]
    }
   ],
   "source": [
    "%sql .separator |\n",
    "%sql .import items.dat Items\n"
   ]
  },
  {
   "cell_type": "code",
   "execution_count": 26,
   "metadata": {},
   "outputs": [
    {
     "name": "stdout",
     "output_type": "stream",
     "text": [
      " * sqlite:///./ebay.db\n",
      "Done.\n"
     ]
    },
    {
     "data": {
      "text/html": [
       "<table>\n",
       "    <tr>\n",
       "        <th>userID</th>\n",
       "        <th>rating</th>\n",
       "        <th>location</th>\n",
       "        <th>country</th>\n",
       "    </tr>\n",
       "    <tr>\n",
       "        <td>rulabula</td>\n",
       "        <td>1035</td>\n",
       "        <td></td>\n",
       "        <td></td>\n",
       "    </tr>\n",
       "    <tr>\n",
       "        <td>dollface94</td>\n",
       "        <td>221</td>\n",
       "        <td></td>\n",
       "        <td></td>\n",
       "    </tr>\n",
       "    <tr>\n",
       "        <td>fallsantiques</td>\n",
       "        <td>952</td>\n",
       "        <td></td>\n",
       "        <td></td>\n",
       "    </tr>\n",
       "    <tr>\n",
       "        <td>goldcoastvideo</td>\n",
       "        <td>2919</td>\n",
       "        <td>Los Angeles,CA</td>\n",
       "        <td>USA</td>\n",
       "    </tr>\n",
       "    <tr>\n",
       "        <td>lwm123</td>\n",
       "        <td>813</td>\n",
       "        <td></td>\n",
       "        <td></td>\n",
       "    </tr>\n",
       "    <tr>\n",
       "        <td>nobody138</td>\n",
       "        <td>427</td>\n",
       "        <td>GOD BLESS AMERICA, FROM SOUTH, MS</td>\n",
       "        <td>USA</td>\n",
       "    </tr>\n",
       "    <tr>\n",
       "        <td>danielhb2000</td>\n",
       "        <td>1</td>\n",
       "        <td>Huntington Beach, Ca.</td>\n",
       "        <td>USA</td>\n",
       "    </tr>\n",
       "    <tr>\n",
       "        <td>boncon123</td>\n",
       "        <td>106</td>\n",
       "        <td>Northern Ireland</td>\n",
       "        <td>United Kingdom</td>\n",
       "    </tr>\n",
       "    <tr>\n",
       "        <td>watchdenmark</td>\n",
       "        <td>37</td>\n",
       "        <td>Munich</td>\n",
       "        <td>Germany</td>\n",
       "    </tr>\n",
       "    <tr>\n",
       "        <td>mrwvh</td>\n",
       "        <td>92</td>\n",
       "        <td>Bryan, TX</td>\n",
       "        <td>USA</td>\n",
       "    </tr>\n",
       "</table>"
      ],
      "text/plain": [
       "[(u'rulabula', 1035, u'', u''),\n",
       " (u'dollface94', 221, u'', u''),\n",
       " (u'fallsantiques', 952, u'', u''),\n",
       " (u'goldcoastvideo', 2919, u'Los Angeles,CA', u'USA'),\n",
       " (u'lwm123', 813, u'', u''),\n",
       " (u'nobody138', 427, u'GOD BLESS AMERICA, FROM SOUTH, MS', u'USA'),\n",
       " (u'danielhb2000', 1, u'Huntington Beach, Ca.', u'USA'),\n",
       " (u'boncon123', 106, u'Northern Ireland', u'United Kingdom'),\n",
       " (u'watchdenmark', 37, u'Munich', u'Germany'),\n",
       " (u'mrwvh', 92, u'Bryan, TX', u'USA')]"
      ]
     },
     "execution_count": 26,
     "metadata": {},
     "output_type": "execute_result"
    }
   ],
   "source": [
    "%%sql\n",
    "SELECT *\n",
    "FROM Users\n",
    "LIMIT 10\n"
   ]
  },
  {
   "cell_type": "code",
   "execution_count": 12,
   "metadata": {},
   "outputs": [
    {
     "name": "stdout",
     "output_type": "stream",
     "text": [
      " * sqlite:///./ebay.db\n",
      "0 rows affected.\n"
     ]
    },
    {
     "data": {
      "text/plain": [
       "[]"
      ]
     },
     "execution_count": 12,
     "metadata": {},
     "output_type": "execute_result"
    }
   ],
   "source": [
    "%%sql\n",
    "DELETE\n",
    "FROM Items"
   ]
  },
  {
   "cell_type": "code",
   "execution_count": null,
   "metadata": {},
   "outputs": [],
   "source": []
  }
 ],
 "metadata": {
  "kernelspec": {
   "display_name": "Python 2",
   "language": "python",
   "name": "python2"
  },
  "language_info": {
   "codemirror_mode": {
    "name": "ipython",
    "version": 2
   },
   "file_extension": ".py",
   "mimetype": "text/x-python",
   "name": "python",
   "nbconvert_exporter": "python",
   "pygments_lexer": "ipython2",
   "version": "2.7.15"
  }
 },
 "nbformat": 4,
 "nbformat_minor": 2
}
