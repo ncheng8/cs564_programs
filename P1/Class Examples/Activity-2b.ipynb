{
 "cells": [
  {
   "cell_type": "markdown",
   "metadata": {},
   "source": [
    "**Make sure to have a copy of the database file, \"world-db\", from the last lecture downloaded and in this directory for the below to work!**"
   ]
  },
  {
   "cell_type": "code",
   "execution_count": 1,
   "metadata": {
    "slideshow": {
     "slide_type": "slide"
    }
   },
   "outputs": [
    {
     "data": {
      "text/plain": [
       "u'Connected: @./world-db'"
      ]
     },
     "execution_count": 1,
     "metadata": {},
     "output_type": "execute_result"
    }
   ],
   "source": [
    "%load_ext sql\n",
    "%sql sqlite:///./world-db"
   ]
  },
  {
   "cell_type": "markdown",
   "metadata": {},
   "source": [
    "The database `world` has 3 tables: \n",
    "> * `City`\n",
    "> * `Country`\n",
    "> * `CountryLanguage`\n",
    "\n",
    "Recall that to find the schema of a table, we can type the following command:"
   ]
  },
  {
   "cell_type": "code",
   "execution_count": 2,
   "metadata": {},
   "outputs": [
    {
     "name": "stdout",
     "output_type": "stream",
     "text": [
      " * sqlite:///./world-db\n",
      "Done.\n"
     ]
    },
    {
     "data": {
      "text/html": [
       "<table>\n",
       "    <tr>\n",
       "        <th>cid</th>\n",
       "        <th>name</th>\n",
       "        <th>type</th>\n",
       "        <th>notnull</th>\n",
       "        <th>dflt_value</th>\n",
       "        <th>pk</th>\n",
       "    </tr>\n",
       "    <tr>\n",
       "        <td>0</td>\n",
       "        <td>ID</td>\n",
       "        <td>int(11)</td>\n",
       "        <td>1</td>\n",
       "        <td>None</td>\n",
       "        <td>1</td>\n",
       "    </tr>\n",
       "    <tr>\n",
       "        <td>1</td>\n",
       "        <td>Name</td>\n",
       "        <td>char(35)</td>\n",
       "        <td>1</td>\n",
       "        <td>''</td>\n",
       "        <td>0</td>\n",
       "    </tr>\n",
       "    <tr>\n",
       "        <td>2</td>\n",
       "        <td>CountryCode</td>\n",
       "        <td>char(3)</td>\n",
       "        <td>1</td>\n",
       "        <td>''</td>\n",
       "        <td>0</td>\n",
       "    </tr>\n",
       "    <tr>\n",
       "        <td>3</td>\n",
       "        <td>District</td>\n",
       "        <td>char(20)</td>\n",
       "        <td>1</td>\n",
       "        <td>''</td>\n",
       "        <td>0</td>\n",
       "    </tr>\n",
       "    <tr>\n",
       "        <td>4</td>\n",
       "        <td>Population</td>\n",
       "        <td>int(11)</td>\n",
       "        <td>1</td>\n",
       "        <td>'0'</td>\n",
       "        <td>0</td>\n",
       "    </tr>\n",
       "</table>"
      ],
      "text/plain": [
       "[(0, u'ID', u'int(11)', 1, None, 1),\n",
       " (1, u'Name', u'char(35)', 1, u\"''\", 0),\n",
       " (2, u'CountryCode', u'char(3)', 1, u\"''\", 0),\n",
       " (3, u'District', u'char(20)', 1, u\"''\", 0),\n",
       " (4, u'Population', u'int(11)', 1, u\"'0'\", 0)]"
      ]
     },
     "execution_count": 2,
     "metadata": {},
     "output_type": "execute_result"
    }
   ],
   "source": [
    "%sql PRAGMA table_info(City);"
   ]
  },
  {
   "cell_type": "markdown",
   "metadata": {
    "slideshow": {
     "slide_type": "slide"
    }
   },
   "source": [
    "SINGLE-TABLE QUERIES\n",
    "-------------------\n",
    "\n",
    "Let's start with a simple query: what is the population of the USA?"
   ]
  },
  {
   "cell_type": "code",
   "execution_count": 3,
   "metadata": {
    "slideshow": {
     "slide_type": "fragment"
    }
   },
   "outputs": [
    {
     "name": "stdout",
     "output_type": "stream",
     "text": [
      " * sqlite:///./world-db\n",
      "Done.\n"
     ]
    },
    {
     "data": {
      "text/html": [
       "<table>\n",
       "    <tr>\n",
       "        <th>Population</th>\n",
       "    </tr>\n",
       "    <tr>\n",
       "        <td>278357000</td>\n",
       "    </tr>\n",
       "</table>"
      ],
      "text/plain": [
       "[(278357000,)]"
      ]
     },
     "execution_count": 3,
     "metadata": {},
     "output_type": "execute_result"
    }
   ],
   "source": [
    "%%sql \n",
    "SELECT Population \n",
    "FROM Country \n",
    "WHERE Code = 'USA';"
   ]
  },
  {
   "cell_type": "markdown",
   "metadata": {},
   "source": [
    "**Exercise #1**: write a query that returns the countries that gained independence after 1989, along with the year they gained independence."
   ]
  },
  {
   "cell_type": "code",
   "execution_count": 8,
   "metadata": {},
   "outputs": [
    {
     "name": "stdout",
     "output_type": "stream",
     "text": [
      " * sqlite:///./world-db\n",
      "Done.\n"
     ]
    },
    {
     "data": {
      "text/html": [
       "<table>\n",
       "    <tr>\n",
       "        <th>Name</th>\n",
       "        <th>IndepYear</th>\n",
       "    </tr>\n",
       "    <tr>\n",
       "        <td>Armenia</td>\n",
       "        <td>1991</td>\n",
       "    </tr>\n",
       "    <tr>\n",
       "        <td>Azerbaijan</td>\n",
       "        <td>1991</td>\n",
       "    </tr>\n",
       "    <tr>\n",
       "        <td>Bosnia and Herzegovina</td>\n",
       "        <td>1992</td>\n",
       "    </tr>\n",
       "    <tr>\n",
       "        <td>Belarus</td>\n",
       "        <td>1991</td>\n",
       "    </tr>\n",
       "    <tr>\n",
       "        <td>Czech Republic</td>\n",
       "        <td>1993</td>\n",
       "    </tr>\n",
       "    <tr>\n",
       "        <td>Eritrea</td>\n",
       "        <td>1993</td>\n",
       "    </tr>\n",
       "    <tr>\n",
       "        <td>Estonia</td>\n",
       "        <td>1991</td>\n",
       "    </tr>\n",
       "    <tr>\n",
       "        <td>Micronesia, Federated States of</td>\n",
       "        <td>1990</td>\n",
       "    </tr>\n",
       "    <tr>\n",
       "        <td>Georgia</td>\n",
       "        <td>1991</td>\n",
       "    </tr>\n",
       "    <tr>\n",
       "        <td>Croatia</td>\n",
       "        <td>1991</td>\n",
       "    </tr>\n",
       "    <tr>\n",
       "        <td>Kazakstan</td>\n",
       "        <td>1991</td>\n",
       "    </tr>\n",
       "    <tr>\n",
       "        <td>Kyrgyzstan</td>\n",
       "        <td>1991</td>\n",
       "    </tr>\n",
       "    <tr>\n",
       "        <td>Lithuania</td>\n",
       "        <td>1991</td>\n",
       "    </tr>\n",
       "    <tr>\n",
       "        <td>Latvia</td>\n",
       "        <td>1991</td>\n",
       "    </tr>\n",
       "    <tr>\n",
       "        <td>Moldova</td>\n",
       "        <td>1991</td>\n",
       "    </tr>\n",
       "    <tr>\n",
       "        <td>Marshall Islands</td>\n",
       "        <td>1990</td>\n",
       "    </tr>\n",
       "    <tr>\n",
       "        <td>Macedonia</td>\n",
       "        <td>1991</td>\n",
       "    </tr>\n",
       "    <tr>\n",
       "        <td>Namibia</td>\n",
       "        <td>1990</td>\n",
       "    </tr>\n",
       "    <tr>\n",
       "        <td>Palau</td>\n",
       "        <td>1994</td>\n",
       "    </tr>\n",
       "    <tr>\n",
       "        <td>Russian Federation</td>\n",
       "        <td>1991</td>\n",
       "    </tr>\n",
       "    <tr>\n",
       "        <td>Slovakia</td>\n",
       "        <td>1993</td>\n",
       "    </tr>\n",
       "    <tr>\n",
       "        <td>Slovenia</td>\n",
       "        <td>1991</td>\n",
       "    </tr>\n",
       "    <tr>\n",
       "        <td>Tajikistan</td>\n",
       "        <td>1991</td>\n",
       "    </tr>\n",
       "    <tr>\n",
       "        <td>Turkmenistan</td>\n",
       "        <td>1991</td>\n",
       "    </tr>\n",
       "    <tr>\n",
       "        <td>Ukraine</td>\n",
       "        <td>1991</td>\n",
       "    </tr>\n",
       "    <tr>\n",
       "        <td>Uzbekistan</td>\n",
       "        <td>1991</td>\n",
       "    </tr>\n",
       "</table>"
      ],
      "text/plain": [
       "[(u'Armenia', 1991),\n",
       " (u'Azerbaijan', 1991),\n",
       " (u'Bosnia and Herzegovina', 1992),\n",
       " (u'Belarus', 1991),\n",
       " (u'Czech Republic', 1993),\n",
       " (u'Eritrea', 1993),\n",
       " (u'Estonia', 1991),\n",
       " (u'Micronesia, Federated States of', 1990),\n",
       " (u'Georgia', 1991),\n",
       " (u'Croatia', 1991),\n",
       " (u'Kazakstan', 1991),\n",
       " (u'Kyrgyzstan', 1991),\n",
       " (u'Lithuania', 1991),\n",
       " (u'Latvia', 1991),\n",
       " (u'Moldova', 1991),\n",
       " (u'Marshall Islands', 1990),\n",
       " (u'Macedonia', 1991),\n",
       " (u'Namibia', 1990),\n",
       " (u'Palau', 1994),\n",
       " (u'Russian Federation', 1991),\n",
       " (u'Slovakia', 1993),\n",
       " (u'Slovenia', 1991),\n",
       " (u'Tajikistan', 1991),\n",
       " (u'Turkmenistan', 1991),\n",
       " (u'Ukraine', 1991),\n",
       " (u'Uzbekistan', 1991)]"
      ]
     },
     "execution_count": 8,
     "metadata": {},
     "output_type": "execute_result"
    }
   ],
   "source": [
    "%%sql\n",
    "SELECT name, IndepYear\n",
    "FROM Country\n",
    "WHERE Country.IndepYear > '1989'"
   ]
  },
  {
   "cell_type": "markdown",
   "metadata": {
    "slideshow": {
     "slide_type": "slide"
    }
   },
   "source": [
    "To return all attributes of a table, we use the `*` in the SELECT clause. For instance, the following query returns all the attributes for cities with population over 1 million in the US."
   ]
  },
  {
   "cell_type": "code",
   "execution_count": 7,
   "metadata": {
    "slideshow": {
     "slide_type": "subslide"
    }
   },
   "outputs": [
    {
     "name": "stdout",
     "output_type": "stream",
     "text": [
      " * sqlite:///./world-db\n",
      "Done.\n"
     ]
    },
    {
     "data": {
      "text/html": [
       "<table>\n",
       "    <tr>\n",
       "        <th>ID</th>\n",
       "        <th>Name</th>\n",
       "        <th>CountryCode</th>\n",
       "        <th>District</th>\n",
       "        <th>Population</th>\n",
       "    </tr>\n",
       "    <tr>\n",
       "        <td>3793</td>\n",
       "        <td>New York</td>\n",
       "        <td>USA</td>\n",
       "        <td>New York</td>\n",
       "        <td>8008278</td>\n",
       "    </tr>\n",
       "    <tr>\n",
       "        <td>3794</td>\n",
       "        <td>Los Angeles</td>\n",
       "        <td>USA</td>\n",
       "        <td>California</td>\n",
       "        <td>3694820</td>\n",
       "    </tr>\n",
       "    <tr>\n",
       "        <td>3795</td>\n",
       "        <td>Chicago</td>\n",
       "        <td>USA</td>\n",
       "        <td>Illinois</td>\n",
       "        <td>2896016</td>\n",
       "    </tr>\n",
       "    <tr>\n",
       "        <td>3796</td>\n",
       "        <td>Houston</td>\n",
       "        <td>USA</td>\n",
       "        <td>Texas</td>\n",
       "        <td>1953631</td>\n",
       "    </tr>\n",
       "    <tr>\n",
       "        <td>3797</td>\n",
       "        <td>Philadelphia</td>\n",
       "        <td>USA</td>\n",
       "        <td>Pennsylvania</td>\n",
       "        <td>1517550</td>\n",
       "    </tr>\n",
       "    <tr>\n",
       "        <td>3798</td>\n",
       "        <td>Phoenix</td>\n",
       "        <td>USA</td>\n",
       "        <td>Arizona</td>\n",
       "        <td>1321045</td>\n",
       "    </tr>\n",
       "    <tr>\n",
       "        <td>3799</td>\n",
       "        <td>San Diego</td>\n",
       "        <td>USA</td>\n",
       "        <td>California</td>\n",
       "        <td>1223400</td>\n",
       "    </tr>\n",
       "    <tr>\n",
       "        <td>3800</td>\n",
       "        <td>Dallas</td>\n",
       "        <td>USA</td>\n",
       "        <td>Texas</td>\n",
       "        <td>1188580</td>\n",
       "    </tr>\n",
       "    <tr>\n",
       "        <td>3801</td>\n",
       "        <td>San Antonio</td>\n",
       "        <td>USA</td>\n",
       "        <td>Texas</td>\n",
       "        <td>1144646</td>\n",
       "    </tr>\n",
       "</table>"
      ],
      "text/plain": [
       "[(3793, u'New York', u'USA', u'New York', 8008278),\n",
       " (3794, u'Los Angeles', u'USA', u'California', 3694820),\n",
       " (3795, u'Chicago', u'USA', u'Illinois', 2896016),\n",
       " (3796, u'Houston', u'USA', u'Texas', 1953631),\n",
       " (3797, u'Philadelphia', u'USA', u'Pennsylvania', 1517550),\n",
       " (3798, u'Phoenix', u'USA', u'Arizona', 1321045),\n",
       " (3799, u'San Diego', u'USA', u'California', 1223400),\n",
       " (3800, u'Dallas', u'USA', u'Texas', 1188580),\n",
       " (3801, u'San Antonio', u'USA', u'Texas', 1144646)]"
      ]
     },
     "execution_count": 7,
     "metadata": {},
     "output_type": "execute_result"
    }
   ],
   "source": [
    "%%sql \n",
    "SELECT *\n",
    "FROM City\n",
    "WHERE Population >= '1000000' AND CountryCode = 'USA';"
   ]
  },
  {
   "cell_type": "markdown",
   "metadata": {},
   "source": [
    "Keep in mind that for constants we need to use single quotes!"
   ]
  },
  {
   "cell_type": "markdown",
   "metadata": {},
   "source": [
    "We can rename an attribute in the output schema by using the SQL command AS. For example:"
   ]
  },
  {
   "cell_type": "code",
   "execution_count": 9,
   "metadata": {},
   "outputs": [
    {
     "name": "stdout",
     "output_type": "stream",
     "text": [
      " * sqlite:///./world-db\n",
      "Done.\n"
     ]
    },
    {
     "data": {
      "text/html": [
       "<table>\n",
       "    <tr>\n",
       "        <th>LargeUSACity</th>\n",
       "    </tr>\n",
       "    <tr>\n",
       "        <td>New York</td>\n",
       "    </tr>\n",
       "    <tr>\n",
       "        <td>Los Angeles</td>\n",
       "    </tr>\n",
       "    <tr>\n",
       "        <td>Chicago</td>\n",
       "    </tr>\n",
       "    <tr>\n",
       "        <td>Houston</td>\n",
       "    </tr>\n",
       "    <tr>\n",
       "        <td>Philadelphia</td>\n",
       "    </tr>\n",
       "    <tr>\n",
       "        <td>Phoenix</td>\n",
       "    </tr>\n",
       "    <tr>\n",
       "        <td>San Diego</td>\n",
       "    </tr>\n",
       "    <tr>\n",
       "        <td>Dallas</td>\n",
       "    </tr>\n",
       "    <tr>\n",
       "        <td>San Antonio</td>\n",
       "    </tr>\n",
       "</table>"
      ],
      "text/plain": [
       "[(u'New York',),\n",
       " (u'Los Angeles',),\n",
       " (u'Chicago',),\n",
       " (u'Houston',),\n",
       " (u'Philadelphia',),\n",
       " (u'Phoenix',),\n",
       " (u'San Diego',),\n",
       " (u'Dallas',),\n",
       " (u'San Antonio',)]"
      ]
     },
     "execution_count": 9,
     "metadata": {},
     "output_type": "execute_result"
    }
   ],
   "source": [
    "%%sql\n",
    "SELECT Name LargeUSACity\n",
    "FROM City\n",
    "WHERE Population >= '1000000' AND CountryCode = 'USA';"
   ]
  },
  {
   "cell_type": "markdown",
   "metadata": {},
   "source": [
    "It is possible to also perform arithmetic operations inside the SELECT clause. For example, to return the population in millions, we can use division."
   ]
  },
  {
   "cell_type": "code",
   "execution_count": 10,
   "metadata": {},
   "outputs": [
    {
     "name": "stdout",
     "output_type": "stream",
     "text": [
      " * sqlite:///./world-db\n",
      "Done.\n"
     ]
    },
    {
     "data": {
      "text/html": [
       "<table>\n",
       "    <tr>\n",
       "        <th>Name</th>\n",
       "        <th>PopulationInMillion</th>\n",
       "    </tr>\n",
       "    <tr>\n",
       "        <td>New York</td>\n",
       "        <td>18</td>\n",
       "    </tr>\n",
       "    <tr>\n",
       "        <td>Los Angeles</td>\n",
       "        <td>13</td>\n",
       "    </tr>\n",
       "    <tr>\n",
       "        <td>Chicago</td>\n",
       "        <td>12</td>\n",
       "    </tr>\n",
       "</table>"
      ],
      "text/plain": [
       "[(u'New York', 18), (u'Los Angeles', 13), (u'Chicago', 12)]"
      ]
     },
     "execution_count": 10,
     "metadata": {},
     "output_type": "execute_result"
    }
   ],
   "source": [
    "%%sql\n",
    "SELECT Name, ((Population / 1000000)+10) AS PopulationInMillion\n",
    "FROM City\n",
    "WHERE Population >= '2000000' AND CountryCode = 'USA';"
   ]
  },
  {
   "cell_type": "markdown",
   "metadata": {},
   "source": [
    "Observe that division here behaves as integer division. If we want to get a float value, we can rewrite the above query (similar to type casting):"
   ]
  },
  {
   "cell_type": "code",
   "execution_count": null,
   "metadata": {},
   "outputs": [],
   "source": [
    "%%sql\n",
    "SELECT Name, ((Population * 1.0)/ 1000000) AS PopulationInMillion\n",
    "FROM City\n",
    "WHERE Population >= '2000000' AND CountryCode = 'USA';"
   ]
  },
  {
   "cell_type": "markdown",
   "metadata": {},
   "source": [
    "Let's do some pattern matching! Find the countries that have a form of goverment that contains the word monarchy"
   ]
  },
  {
   "cell_type": "code",
   "execution_count": null,
   "metadata": {},
   "outputs": [],
   "source": [
    "%%sql\n",
    "SELECT Name, GovernmentForm\n",
    "FROM Country\n",
    "WHERE GovernmentForm LIKE '%Monarchy%';"
   ]
  },
  {
   "cell_type": "markdown",
   "metadata": {},
   "source": [
    "Next, suppose that we want to find out all the different forms a government. Let's try the following:"
   ]
  },
  {
   "cell_type": "code",
   "execution_count": null,
   "metadata": {},
   "outputs": [],
   "source": [
    "%%sql\n",
    "SELECT GovernmentForm\n",
    "FROM Country ;"
   ]
  },
  {
   "cell_type": "markdown",
   "metadata": {},
   "source": [
    "The above query did not return the desired result, because it keeps a separate copy for each occurrence of the same value in the table. To remove the duplicates, we simply need to add the DISTINCT keyword."
   ]
  },
  {
   "cell_type": "code",
   "execution_count": null,
   "metadata": {},
   "outputs": [],
   "source": [
    "%%sql\n",
    "SELECT DISTINCT GovernmentForm\n",
    "FROM Country ;"
   ]
  },
  {
   "cell_type": "markdown",
   "metadata": {},
   "source": [
    "We can use ORDER BY to order the city population by decreasing population."
   ]
  },
  {
   "cell_type": "code",
   "execution_count": null,
   "metadata": {},
   "outputs": [],
   "source": [
    "%%sql\n",
    "SELECT Name, (Population/1000000) AS Pop\n",
    "FROM City\n",
    "WHERE Population >= '1000000'AND CountryCode = 'USA'\n",
    "ORDER BY Name,Pop asc;"
   ]
  },
  {
   "cell_type": "markdown",
   "metadata": {},
   "source": [
    "LIMIT is very useful if we want to look at only a few rows of a table."
   ]
  },
  {
   "cell_type": "code",
   "execution_count": null,
   "metadata": {},
   "outputs": [],
   "source": [
    "%%sql\n",
    "SELECT *\n",
    "FROM City\n",
    "LIMIT 3 \n",
    "order by Population;"
   ]
  },
  {
   "cell_type": "markdown",
   "metadata": {},
   "source": [
    "**Exercise #2**: write a query that returns the two most populous cities in the US."
   ]
  },
  {
   "cell_type": "code",
   "execution_count": null,
   "metadata": {
    "collapsed": true
   },
   "outputs": [],
   "source": []
  },
  {
   "cell_type": "markdown",
   "metadata": {},
   "source": [
    "MULTI-TABLE QUERIES\n",
    "---------------------\n",
    "\n",
    "What are the names of all countries that speak Greek? To answer this question, we need to combine information from two tables by *joining* them."
   ]
  },
  {
   "cell_type": "code",
   "execution_count": null,
   "metadata": {},
   "outputs": [],
   "source": [
    "%%sql\n",
    "SELECT Country.Name\n",
    "FROM Country, CountryLanguage\n",
    "WHERE Country.Code = CountryLanguage.CountryCode\n",
    "AND CountryLanguage.Language = 'Greek';"
   ]
  },
  {
   "cell_type": "markdown",
   "metadata": {},
   "source": [
    "Notice how we need to specify the table that each attribute comes from. Another way to write the above query:"
   ]
  },
  {
   "cell_type": "code",
   "execution_count": null,
   "metadata": {
    "collapsed": true
   },
   "outputs": [],
   "source": [
    "%%sql\n",
    "SELECT C.Name\n",
    "FROM Country C, CountryLanguage L\n",
    "WHERE C.Code = L.CountryCode\n",
    "AND L.Language = 'Greek';"
   ]
  },
  {
   "cell_type": "markdown",
   "metadata": {},
   "source": [
    "**Exercise #3**: write a query that returns the countries that speak at least 50% Greek."
   ]
  },
  {
   "cell_type": "code",
   "execution_count": null,
   "metadata": {
    "collapsed": true
   },
   "outputs": [],
   "source": []
  },
  {
   "cell_type": "markdown",
   "metadata": {},
   "source": [
    "**Exercise #4**: write a query that returns the district of the capital of USA."
   ]
  },
  {
   "cell_type": "code",
   "execution_count": null,
   "metadata": {
    "collapsed": true
   },
   "outputs": [],
   "source": []
  },
  {
   "cell_type": "markdown",
   "metadata": {},
   "source": [
    "Next, we want to return the countries that speak both Greek and English."
   ]
  },
  {
   "cell_type": "code",
   "execution_count": null,
   "metadata": {
    "collapsed": true
   },
   "outputs": [],
   "source": [
    "%%sql\n",
    "SELECT C.Name\n",
    "FROM Country C, CountryLanguage L1, CountryLanguage L2\n",
    "WHERE C.Code = L1.CountryCode\n",
    "AND C.Code = L2.CountryCode\n",
    "AND L1.Language = 'Greek'\n",
    "AND L2.Language = 'English';"
   ]
  },
  {
   "cell_type": "markdown",
   "metadata": {},
   "source": [
    "Alternatively, we can write the above query using INTERSECT."
   ]
  },
  {
   "cell_type": "code",
   "execution_count": null,
   "metadata": {
    "collapsed": true
   },
   "outputs": [],
   "source": [
    "%%sql\n",
    "SELECT C.Name\n",
    "FROM Country C, CountryLanguage L\n",
    "WHERE C.Code = L.CountryCode\n",
    "AND L.Language = 'Greek'\n",
    "INTERSECT\n",
    "SELECT C.Name\n",
    "FROM Country C, CountryLanguage L\n",
    "WHERE C.Code = L.CountryCode\n",
    "AND L.Language = 'English' ;"
   ]
  },
  {
   "cell_type": "markdown",
   "metadata": {},
   "source": [
    "Which countries have population more than 100 million and do not speak English?"
   ]
  },
  {
   "cell_type": "code",
   "execution_count": null,
   "metadata": {
    "collapsed": true
   },
   "outputs": [],
   "source": [
    "%%sql\n",
    "SELECT C.Name\n",
    "FROM Country C\n",
    "WHERE C.Population >= 100000000\n",
    "EXCEPT\n",
    "SELECT C.Name\n",
    "FROM Country C, CountryLanguage L\n",
    "WHERE C.Code = L.CountryCode\n",
    "AND L.Language = 'English' ;"
   ]
  }
 ],
 "metadata": {
  "kernelspec": {
   "display_name": "Python 2",
   "language": "python",
   "name": "python2"
  },
  "language_info": {
   "codemirror_mode": {
    "name": "ipython",
    "version": 2
   },
   "file_extension": ".py",
   "mimetype": "text/x-python",
   "name": "python",
   "nbconvert_exporter": "python",
   "pygments_lexer": "ipython2",
   "version": "2.7.15"
  }
 },
 "nbformat": 4,
 "nbformat_minor": 1
}
