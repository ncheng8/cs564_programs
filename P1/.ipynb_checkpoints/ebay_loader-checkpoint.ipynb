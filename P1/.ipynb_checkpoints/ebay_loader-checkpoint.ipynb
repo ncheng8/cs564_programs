{
 "cells": [
  {
   "cell_type": "code",
   "execution_count": 1,
   "metadata": {},
   "outputs": [
    {
     "data": {
      "text/plain": [
       "u'Connected: @./ebay.db'"
      ]
     },
     "execution_count": 1,
     "metadata": {},
     "output_type": "execute_result"
    }
   ],
   "source": [
    "%load_ext sql\n",
    "%sql sqlite:///./ebay.db"
   ]
  },
  {
   "cell_type": "code",
   "execution_count": null,
   "metadata": {},
   "outputs": [],
   "source": [
    "%sql PRAGMA table_info(Items)"
   ]
  },
  {
   "cell_type": "code",
   "execution_count": null,
   "metadata": {},
   "outputs": [],
   "source": [
    "%%sql\n",
    ".separator |\n",
    ".import users.dat Users"
   ]
  },
  {
   "cell_type": "code",
   "execution_count": null,
   "metadata": {},
   "outputs": [],
   "source": [
    "%%sql\n",
    "DROP TABLE IF EXISTS Items;\n",
    "DROP TABLE IF EXISTS Users;\n",
    "DROP TABLE IF EXISTS Bids;\n",
    "DROP TABLE IF EXISTS Categories;\n",
    "\n",
    "CREATE TABLE Items (\n",
    "    itemID INTEGER PRIMARY KEY,\n",
    "    name TEXT,\n",
    "    currently FLOAT,\n",
    "    startBid FLOAT,\n",
    "    numBids INTEGER,\n",
    "    startTime TEXT,\n",
    "    endTime TEXT,\n",
    "    itemDesc TEXT,    \n",
    "    buyoutPrice FLOAT,    \n",
    "    sellerID TEXT,\n",
    "    FOREIGN KEY (sellerID) REFERENCES Users(userID)    \n",
    ");\n",
    "\n",
    "CREATE TABLE Users (\n",
    "    userID TEXT PRIMARY KEY,\n",
    "    rating INTEGER,\n",
    "    location TEXT,\n",
    "    country TEXT   \n",
    ");\n",
    "\n",
    "CREATE TABLE Bids (\n",
    "    bidderID TEXT,\n",
    "    itemID INTEGER,\n",
    "    time TEXT,\n",
    "    amount FLOAT,\n",
    "    FOREIGN KEY (bidderID) REFERENCES Users(userID),\n",
    "    FOREIGN KEY (itemID) REFERENCES Items(itemID)\n",
    ");\n",
    "\n",
    "CREATE TABLE Categories (\n",
    "    itemID INTEGER,\n",
    "    name TEXT,\n",
    "    FOREIGN KEY (itemID) REFERENCES Items(itemID)\n",
    ");\n",
    "\n",
    "PRAGMA table_info(Items);\n",
    "PRAGMA table_info(Users);\n",
    "PRAGMA table_info(Bids);\n",
    "PRAGMA table_info(Categories);\n"
   ]
  },
  {
   "cell_type": "code",
   "execution_count": null,
   "metadata": {},
   "outputs": [],
   "source": [
    "%sql .separator |\n",
    "%sql .import items.dat Items\n"
   ]
  },
  {
   "cell_type": "code",
   "execution_count": null,
   "metadata": {},
   "outputs": [],
   "source": [
    "%%sql\n",
    "SELECT *\n",
    "FROM Users\n",
    "LIMIT 10\n"
   ]
  },
  {
   "cell_type": "code",
   "execution_count": null,
   "metadata": {},
   "outputs": [],
   "source": [
    "%%sql\n",
    "DELETE\n",
    "FROM Items"
   ]
  },
  {
   "cell_type": "code",
   "execution_count": 3,
   "metadata": {},
   "outputs": [
    {
     "name": "stdout",
     "output_type": "stream",
     "text": [
      " * sqlite:///./ebay.db\n",
      "Done.\n"
     ]
    },
    {
     "data": {
      "text/html": [
       "<table>\n",
       "    <tr>\n",
       "        <th>Count(*)</th>\n",
       "    </tr>\n",
       "    <tr>\n",
       "        <td>13422</td>\n",
       "    </tr>\n",
       "</table>"
      ],
      "text/plain": [
       "[(13422,)]"
      ]
     },
     "execution_count": 3,
     "metadata": {},
     "output_type": "execute_result"
    }
   ],
   "source": [
    "-- Query 1\n",
    "%%sql\n",
    "SELECT Count(*)\n",
    "FROM Users\n"
   ]
  },
  {
   "cell_type": "code",
   "execution_count": 4,
   "metadata": {},
   "outputs": [
    {
     "name": "stdout",
     "output_type": "stream",
     "text": [
      " * sqlite:///./ebay.db\n",
      "Done.\n"
     ]
    },
    {
     "data": {
      "text/html": [
       "<table>\n",
       "    <tr>\n",
       "        <th>Count(*)</th>\n",
       "    </tr>\n",
       "    <tr>\n",
       "        <td>42</td>\n",
       "    </tr>\n",
       "</table>"
      ],
      "text/plain": [
       "[(42,)]"
      ]
     },
     "execution_count": 4,
     "metadata": {},
     "output_type": "execute_result"
    }
   ],
   "source": [
    "-- Query 2\n",
    "%%sql\n",
    "SELECT Count(*)\n",
    "FROM Users\n",
    "WHERE Users.location = \"New York\""
   ]
  },
  {
   "cell_type": "code",
   "execution_count": 5,
   "metadata": {},
   "outputs": [
    {
     "name": "stdout",
     "output_type": "stream",
     "text": [
      " * sqlite:///./ebay.db\n",
      "Done.\n"
     ]
    },
    {
     "data": {
      "text/html": [
       "<table>\n",
       "    <tr>\n",
       "        <th>MAX(i.currently)</th>\n",
       "        <th>Auction</th>\n",
       "    </tr>\n",
       "    <tr>\n",
       "        <td>18000.0</td>\n",
       "        <td>1046871451</td>\n",
       "    </tr>\n",
       "</table>"
      ],
      "text/plain": [
       "[(18000.0, 1046871451)]"
      ]
     },
     "execution_count": 5,
     "metadata": {},
     "output_type": "execute_result"
    }
   ],
   "source": [
    "-- Query 4\n",
    "%%sql\n",
    "SELECT MAX(i.currently), itemID AS Auction\n",
    "FROM Items i"
   ]
  },
  {
   "cell_type": "code",
   "execution_count": null,
   "metadata": {},
   "outputs": [],
   "source": []
  }
 ],
 "metadata": {
  "kernelspec": {
   "display_name": "Python 2",
   "language": "python",
   "name": "python2"
  },
  "language_info": {
   "codemirror_mode": {
    "name": "ipython",
    "version": 2
   },
   "file_extension": ".py",
   "mimetype": "text/x-python",
   "name": "python",
   "nbconvert_exporter": "python",
   "pygments_lexer": "ipython2",
   "version": "2.7.15"
  }
 },
 "nbformat": 4,
 "nbformat_minor": 2
}
