{
 "cells": [
  {
   "cell_type": "code",
   "execution_count": 1,
   "metadata": {},
   "outputs": [
    {
     "data": {
      "text/plain": [
       "u'Connected: @./ebay.db'"
      ]
     },
     "execution_count": 1,
     "metadata": {},
     "output_type": "execute_result"
    }
   ],
   "source": [
    "%load_ext sql\n",
    "%sql sqlite:///./ebay.db"
   ]
  },
  {
   "cell_type": "code",
   "execution_count": 2,
   "metadata": {},
   "outputs": [
    {
     "name": "stdout",
     "output_type": "stream",
     "text": [
      " * sqlite:///./ebay.db\n",
      "Done.\n"
     ]
    },
    {
     "data": {
      "text/html": [
       "<table>\n",
       "    <tr>\n",
       "        <th>cid</th>\n",
       "        <th>name</th>\n",
       "        <th>type</th>\n",
       "        <th>notnull</th>\n",
       "        <th>dflt_value</th>\n",
       "        <th>pk</th>\n",
       "    </tr>\n",
       "    <tr>\n",
       "        <td>0</td>\n",
       "        <td>itemID</td>\n",
       "        <td>INTEGER</td>\n",
       "        <td>0</td>\n",
       "        <td>None</td>\n",
       "        <td>1</td>\n",
       "    </tr>\n",
       "    <tr>\n",
       "        <td>1</td>\n",
       "        <td>name</td>\n",
       "        <td>TEXT</td>\n",
       "        <td>0</td>\n",
       "        <td>None</td>\n",
       "        <td>0</td>\n",
       "    </tr>\n",
       "    <tr>\n",
       "        <td>2</td>\n",
       "        <td>currently</td>\n",
       "        <td>FLOAT</td>\n",
       "        <td>0</td>\n",
       "        <td>None</td>\n",
       "        <td>0</td>\n",
       "    </tr>\n",
       "    <tr>\n",
       "        <td>3</td>\n",
       "        <td>startBid</td>\n",
       "        <td>FLOAT</td>\n",
       "        <td>0</td>\n",
       "        <td>None</td>\n",
       "        <td>0</td>\n",
       "    </tr>\n",
       "    <tr>\n",
       "        <td>4</td>\n",
       "        <td>numBids</td>\n",
       "        <td>INTEGER</td>\n",
       "        <td>0</td>\n",
       "        <td>None</td>\n",
       "        <td>0</td>\n",
       "    </tr>\n",
       "    <tr>\n",
       "        <td>5</td>\n",
       "        <td>startTime</td>\n",
       "        <td>TEXT</td>\n",
       "        <td>0</td>\n",
       "        <td>None</td>\n",
       "        <td>0</td>\n",
       "    </tr>\n",
       "    <tr>\n",
       "        <td>6</td>\n",
       "        <td>endTime</td>\n",
       "        <td>TEXT</td>\n",
       "        <td>0</td>\n",
       "        <td>None</td>\n",
       "        <td>0</td>\n",
       "    </tr>\n",
       "    <tr>\n",
       "        <td>7</td>\n",
       "        <td>itemDesc</td>\n",
       "        <td>TEXT</td>\n",
       "        <td>0</td>\n",
       "        <td>None</td>\n",
       "        <td>0</td>\n",
       "    </tr>\n",
       "    <tr>\n",
       "        <td>8</td>\n",
       "        <td>buyoutPrice</td>\n",
       "        <td>FLOAT</td>\n",
       "        <td>0</td>\n",
       "        <td>None</td>\n",
       "        <td>0</td>\n",
       "    </tr>\n",
       "    <tr>\n",
       "        <td>9</td>\n",
       "        <td>sellerID</td>\n",
       "        <td>TEXT</td>\n",
       "        <td>0</td>\n",
       "        <td>None</td>\n",
       "        <td>0</td>\n",
       "    </tr>\n",
       "</table>"
      ],
      "text/plain": [
       "[(0, u'itemID', u'INTEGER', 0, None, 1),\n",
       " (1, u'name', u'TEXT', 0, None, 0),\n",
       " (2, u'currently', u'FLOAT', 0, None, 0),\n",
       " (3, u'startBid', u'FLOAT', 0, None, 0),\n",
       " (4, u'numBids', u'INTEGER', 0, None, 0),\n",
       " (5, u'startTime', u'TEXT', 0, None, 0),\n",
       " (6, u'endTime', u'TEXT', 0, None, 0),\n",
       " (7, u'itemDesc', u'TEXT', 0, None, 0),\n",
       " (8, u'buyoutPrice', u'FLOAT', 0, None, 0),\n",
       " (9, u'sellerID', u'TEXT', 0, None, 0)]"
      ]
     },
     "execution_count": 2,
     "metadata": {},
     "output_type": "execute_result"
    }
   ],
   "source": [
    "%sql PRAGMA table_info(Items)"
   ]
  },
  {
   "cell_type": "code",
   "execution_count": null,
   "metadata": {},
   "outputs": [],
   "source": [
    "%%sql\n",
    ".separator |\n",
    ".import users.dat Users"
   ]
  },
  {
   "cell_type": "code",
   "execution_count": 24,
   "metadata": {},
   "outputs": [
    {
     "name": "stdout",
     "output_type": "stream",
     "text": [
      " * sqlite:///./ebay.db\n",
      "Done.\n",
      "Done.\n",
      "Done.\n",
      "Done.\n",
      "Done.\n",
      "(sqlite3.OperationalError) near \")\": syntax error [SQL: u'CREATE TABLE Users (\\n    userID TEXT PRIMARY KEY,\\n    rating INTEGER,\\n    location TEXT,\\n    country TEXT,\\n    \\n);'] (Background on this error at: http://sqlalche.me/e/e3q8)\n"
     ]
    }
   ],
   "source": [
    "%%sql\n",
    "DROP TABLE IF EXISTS Items;\n",
    "DROP TABLE IF EXISTS Users;\n",
    "DROP TABLE IF EXISTS Bids;\n",
    "DROP TABLE IF EXISTS Categories;\n",
    "\n",
    "CREATE TABLE Items (\n",
    "    itemID INTEGER PRIMARY KEY,\n",
    "    name TEXT,\n",
    "    currently FLOAT,\n",
    "    startBid FLOAT,\n",
    "    numBids INTEGER,\n",
    "    startTime TEXT,\n",
    "    endTime TEXT,\n",
    "    itemDesc TEXT,    \n",
    "    buyoutPrice FLOAT,    \n",
    "    sellerID TEXT,\n",
    "    FOREIGN KEY (sellerID) REFERENCES Users(userID)    \n",
    ");\n",
    "\n",
    "CREATE TABLE Users (\n",
    "    userID TEXT PRIMARY KEY,\n",
    "    rating INTEGER,\n",
    "    location TEXT,\n",
    "    country TEXT   \n",
    ");\n",
    "\n",
    "CREATE TABLE Bids (\n",
    "    bidderID TEXT,\n",
    "    itemID INTEGER,\n",
    "    time TEXT,\n",
    "    amount FLOAT,\n",
    "    FOREIGN KEY (bidderID) REFERENCES Users(userID),\n",
    "    FOREIGN KEY (itemID) REFERENCES Items(itemID)\n",
    ");\n",
    "\n",
    "CREATE TABLE Categories (\n",
    "    itemID INTEGER,\n",
    "    name TEXT,\n",
    "    FOREIGN KEY (itemID) REFERENCES Items(itemID)\n",
    ");\n",
    "\n",
    "PRAGMA table_info(Items);\n",
    "PRAGMA table_info(Users);\n",
    "PRAGMA table_info(Bids);\n",
    "PRAGMA table_info(Categories);\n"
   ]
  },
  {
   "cell_type": "code",
   "execution_count": 7,
   "metadata": {},
   "outputs": [
    {
     "name": "stdout",
     "output_type": "stream",
     "text": [
      " * sqlite:///./ebay.db\n",
      "(sqlite3.OperationalError) near \".\": syntax error [SQL: u'.separator |'] (Background on this error at: http://sqlalche.me/e/e3q8)\n",
      " * sqlite:///./ebay.db\n",
      "(sqlite3.OperationalError) near \".\": syntax error [SQL: u'.import items.dat Items'] (Background on this error at: http://sqlalche.me/e/e3q8)\n"
     ]
    }
   ],
   "source": [
    "%sql .separator |\n",
    "%sql .import items.dat Items\n"
   ]
  },
  {
   "cell_type": "code",
   "execution_count": 23,
   "metadata": {},
   "outputs": [
    {
     "name": "stdout",
     "output_type": "stream",
     "text": [
      " * sqlite:///./ebay.db\n",
      "Done.\n"
     ]
    },
    {
     "data": {
      "text/html": [
       "<table>\n",
       "    <tr>\n",
       "        <th>itemID</th>\n",
       "        <th>name</th>\n",
       "        <th>currently</th>\n",
       "        <th>startBid</th>\n",
       "        <th>numBids</th>\n",
       "        <th>startTime</th>\n",
       "        <th>endTime</th>\n",
       "        <th>itemDesc</th>\n",
       "        <th>buyoutPrice</th>\n",
       "        <th>sellerID</th>\n",
       "    </tr>\n",
       "    <tr>\n",
       "        <td>1043374545</td>\n",
       "        <td>christopher radko &amp;#124; fritz n_ frosty sledding</td>\n",
       "        <td>30.0</td>\n",
       "        <td>30.0</td>\n",
       "        <td>0</td>\n",
       "        <td>2001-12-03 18:10:40</td>\n",
       "        <td>2001-12-13 18:10:40</td>\n",
       "        <td>brand new beautiful handmade european blown glass ornament from christopher radko. this particular ornament features a snowman paired with a little girl bundled up in here pale blue coat sledding along on a silver and blue sled filled with packages. the ornament is approximately 5_ tall and 4_ wide. brand new and never displayed, it is in its clear plastic packaging and comes in the signature black radko gift box. PLEASE READ CAREFULLY!!!! payment by cashier's check, money order, or personal check. personal checks must clear before shipping. the hold period will be a minimum of 14 days. I ship with UPS and the buyer is responsible for shipping charges. the shipping rate is dependent on both the weight of the package and the distance that package will travel. the minimum shipping/handling charge is $6 and will increase with distance and weight. shipment will occur within 2 to 5 days after the deposit of funds. a $2 surcharge will apply for all USPS shipments if you cannot have or do not want ups service. If you are in need of rush shipping, please let me know and I_will furnish quotes on availability. the BUY-IT-NOW price includes free domestic shipping (international winners and residents of alaska and hawaii receive a credit of like value applied towards their total) and, as an added convenience, you can pay with paypal if you utilize the feature. paypal is not accepted if you win the auction during the course of the regular bidding-I only accept paypal if the buy it now feature is utilized. thank you for your understanding and good luck! Free Honesty Counters powered by Andale! Payment Details See item description and Payment Instructions, or contact seller for more information. Payment Instructions See item description or contact seller for more information.</td>\n",
       "        <td>None</td>\n",
       "        <td>rulabula</td>\n",
       "    </tr>\n",
       "    <tr>\n",
       "        <td>1043397459</td>\n",
       "        <td>PM BOY AND GIRL EXCLUSIVE EVENT PIECE LE</td>\n",
       "        <td>99.99</td>\n",
       "        <td>99.99</td>\n",
       "        <td>0</td>\n",
       "        <td>2001-12-03 18:38:23</td>\n",
       "        <td>2001-12-13 18:38:23</td>\n",
       "        <td>YOU ARE ALWAYS IN MY HEART IS THE NAME OF IT ,HAS A BOY AND A GIRL EACH SITTING IN A HEART SHAPED SHELL ON A BENCH THESE PIECES ARE RARE AND EXCLUSIVE YOU GET BOTH PIECES IN YOUR BID THEY ARE MINT NEVER BEEN DISPLAYED BRAND NEW IN BOXES .... ALSO TAKE PAYPALBUYER PAYS 8.00 SHIPPING</td>\n",
       "        <td>None</td>\n",
       "        <td>dollface94</td>\n",
       "    </tr>\n",
       "    <tr>\n",
       "        <td>1043402767</td>\n",
       "        <td>Precious Moments Girl Stove Mini Tea Set</td>\n",
       "        <td>4.0</td>\n",
       "        <td>4.0</td>\n",
       "        <td>1</td>\n",
       "        <td>2001-12-03 18:44:54</td>\n",
       "        <td>2001-12-13 18:44:54</td>\n",
       "        <td>PRECIOUS MOMENTS GIRL/STOVE MINI TEA SET: This really cute little mini decorative teaset is mint in box. It was only removed for photo. It is about 6 inches across. Original price was $20.00. Buyer to pay postage and handling of $4.50 for delivery in USA.</td>\n",
       "        <td>None</td>\n",
       "        <td>fallsantiques</td>\n",
       "    </tr>\n",
       "    <tr>\n",
       "        <td>1043402785</td>\n",
       "        <td>Beatrix Potter Tailor of Gloucester Shakers</td>\n",
       "        <td>3.5</td>\n",
       "        <td>3.5</td>\n",
       "        <td>0</td>\n",
       "        <td>2001-12-03 18:44:55</td>\n",
       "        <td>2001-12-13 18:44:55</td>\n",
       "        <td>BEATRIX POTTER TAILOR OF GLOUSCESTER SHAKERS: Really cute set of figural salt and pepper shakers of the mouse tailor and two spools of thread. It is mint in box. Original price was $15.00. Buyer to pay postage and handling of $4.50 for delivery in USA.</td>\n",
       "        <td>None</td>\n",
       "        <td>fallsantiques</td>\n",
       "    </tr>\n",
       "    <tr>\n",
       "        <td>1043495702</td>\n",
       "        <td>Precious Moments Fig-ANGEL OF MERCY- NURSE</td>\n",
       "        <td>28.0</td>\n",
       "        <td>9.99</td>\n",
       "        <td>6</td>\n",
       "        <td>2001-12-03 20:40:07</td>\n",
       "        <td>2001-12-13 20:40:07</td>\n",
       "        <td>Precious Moments Fig-ANGEL OF MERCY- NURSE Click picture to enlarge Makes a great gift for Collectors Description Up for bids is this great figurine from Precious Moments. It is #102482, ANGEL OF MERCY. It is a 5 1/2 inch figurine of an angel nurse. She is carrying a plant. It is really cute, just look at the pictures. It was released in 1986. This figurine bears the FIRST production mark of the Olive Branch. It is in EXCELLENT condition. It has only been displayed in a glass case and comes in its original box with all production tags included. The bidding starts at $9.99 with NO RESERVE!!! THANK YOU FOR LOOKING AND HAPPY BIDDING!!!!!!!!!!!!!! US Shipping is $5.60 for Priority Mail with tracking. International shipping, including Canada, is different depending on destination. International bidders, including Canada, must pay through Pay Pal or in US Cash. Email with any questions. Insurance, if desired, is extra. 0-$50.=1.10 - $51.-$100.=$2.00 -$101.-$200.=$3.00 - $201 - $250.=$4.00. Winning bidder must make contact within 3 days and payment must be received witin 10 days (21 days for international winners) or Ebay will be contacted and item relisted. If you don't intend to complete the transaction, Please Don't Bid. Details Click picture to enlarge Condition Excellent This item is in EXCELLENT condition it has only been displayed in a glass case. It comes in its original box with all production tags included!!!!! Payment and Shipping Info Payment Options Money Order/Cashier's Check or Personal Check _ _ _ Shipping Fixed Shipping Charges.$5.60 (Domestic) Will Ship Internationally Quantity Available 1 Special! PLEASE CLICK THE LINK BELOW TO VIEW MY OTHER ITEMS. It Shows ALL My Auctions!!!...I have many quality Precious Moments Figurines and Dolls up for bids with values up to $250.00....ALL with starting bids of $9.99 or less and ALL with NO RESERVE!!!...CHECK THEM OUT!!!!!.... Combine auctions and SAVE on shipping!!!...I accept Pay Pal, Money Orders and Personal Checks. Please note there is 10 day hold on shipping till Personal Checks clear. Click picture to enlarge _ Click picture to enlarge _ Click picture to enlarge _ Click picture to enlarge _ Click picture to enlarge _ Use the REAL selling tools a million sellers do - Andale!</td>\n",
       "        <td>None</td>\n",
       "        <td>lwm123</td>\n",
       "    </tr>\n",
       "    <tr>\n",
       "        <td>1043506302</td>\n",
       "        <td>DREAMSICLES suncatcher \"LOVE LETTERS\" new/nr</td>\n",
       "        <td>6.0</td>\n",
       "        <td>6.0</td>\n",
       "        <td>0</td>\n",
       "        <td>2001-12-03 20:59:45</td>\n",
       "        <td>2001-12-13 20:59:45</td>\n",
       "        <td>DREAMSICLES suncatcher \"LOVE LETTERS\" new/nr Description LOVE LETTERS ! AWARD-WINNING ARTIST KRISTIN HAYNES SHARES HER HEARTWARMING, INSPIRATIONAL ARTISTRY IN THIS EXQUISITE SUNCATCHER PERFECT FOR ANY SUNNY WINDOW! A CHARMING PAIR OF CHERUBS IS ENCIRCLED BY A FLORAL BORDER AND FRAMED IN BRASS. . FRAMED IN BRASS ACCENTED WITH HEARTS. 8\" LONG INCLUDING CHAIN. NEW/MINT/BOX Winning bidder, click here to pay instantly with PayPal! Payment and Shipping I ACCEPT MASTER CARD, VISA, DISCOVER THROUGH PAYPAL, BILLPOINT. CHECKS (with clearance before shipping) money orders, cashiers cks as well. Buyer to prepay in US funds and include $4.00 for shipping and handling within the US only. I SHIP WORLDWIDE ACCEPTING ONLY US FUNDS, PLEASE INQUIRE ABOUT SHIPPING COSTS. IF YOU ARE IN CANADA, INQUIRE BEFORE PAYING ABOUT POSTAGE. ONLY U.S. FUNDS ACCEPTED FOR CANADA. BIDDER IS RESPONSIBLE FOR SHIPPING AND HANDLING CHARGES IMPORTANT! WHAT TO DO WHEN THE AUCTION ENDS? 1. Winning bidder will receive a email notification from dmaley@alltel.net automatically within a few hours after the auction ends. 2. If paying by check or moneyorder please include description,item # or send copy of winner notice to insure quick shipment. ALL MERCHANDISE IS GUARANTEED 100% eBay's most successful sellers use Auctionworks sales management services!</td>\n",
       "        <td>None</td>\n",
       "        <td>dmaley</td>\n",
       "    </tr>\n",
       "    <tr>\n",
       "        <td>1043562035</td>\n",
       "        <td>Town Crier CD102</td>\n",
       "        <td>15.0</td>\n",
       "        <td>15.0</td>\n",
       "        <td>0</td>\n",
       "        <td>2001-12-04 03:09:56</td>\n",
       "        <td>2001-12-14 03:09:56</td>\n",
       "        <td>Dreamsicle Club Members Only Figurine 1995 4 1/2\" Issued:1995 * Retired:1995 This piece is in mint condition and in the original box. Free Honesty Counters powered by Andale! Payment Details See item description and Payment Instructions, or contact seller for more information. Payment Instructions See item description or contact seller for more information.</td>\n",
       "        <td>None</td>\n",
       "        <td>sharkbud</td>\n",
       "    </tr>\n",
       "    <tr>\n",
       "        <td>1043565691</td>\n",
       "        <td>Hertz Corporation Bond Certificate 1970's</td>\n",
       "        <td>24.95</td>\n",
       "        <td>24.95</td>\n",
       "        <td>0</td>\n",
       "        <td>2001-12-04 04:02:04</td>\n",
       "        <td>2001-12-14 04:02:04</td>\n",
       "        <td>Scripophily Makes a Great Gift for Everyone Our Stocks are worth the paper they're printed on (sm) Our Company is a TRUSTED Buyer and Seller of Old Stock Certificates. Check out our About Me Page , where you can find out about us and read the recent articles about our company in Time Magazine, The Wall Street Journal, The Globe and Mail, Washington Post and our appearence on CNN. Beautifully engraved certificate from the Hertz Corporation issued in 1976-1977. This historic document was printed by the Security-Columbian Banknote Company and has an ornate border around it with a vignette of an allegorical man and woman sitting beside the company's logo. This item has the printed signatures of the company_s chairman (Robert L. Stone) and vice-president,finance and assistant secretary. This bond is over 34 years old. Hertz, the world's leading vehicle renting organization, is represented in over 140 countries, operating a fleet of 525,000 vehicles from approximately 6,500 locations. The pioneer of auto renting was Walter L. Jacobs who in September of 1918, at the age of 22, opened a car-rental operation in Chicago. Starting with a dozen Model T Fords, which he repaired and repainted himself, Jacobs expanded his operation to the point where, within five years, the business generated annual revenues of about $1 million. In 1923, Jacobs sold his car-rental concern to John Hertz, President of Yellow Cab and Yellow Truck and Coach Manufacturing Company. Jacobs continued as Hertz' top operating and administrative executive. This rental business, called Hertz Drive-Ur-Self System, was acquired in 1926 by General Motors Corporation when it bought Yellow Truck from John Hertz. The Hertz Corporation In 1953, the Hertz properties were bought from GMC by the Omnibus Corporation, which divested itself of its bus interest and concentrated solely on car and truck renting and leasing. A year later, a new name was taken -- The Hertz Corporation -- and it was listed for the first time on the New York Stock Exchange. Jacobs became Hertz' first President and served in that post until his retirement in 1960. He died in 1985 at the age of 88. In 1954, the new corporation bought Metropolitan Distributors, a pioneer in New York truck leasing dating back to World War I and the largest concern of its kind in any one city. In the process, the head of Metropolitan, Leon C. Greenbaum, became Vice Chairman of the Hertz Board of Directors; he later became Chairman, and in 1960, Chief Executive Officer. In 1967, The Hertz Corporation became a wholly owned subsidiary of RCA Corporation and operated as a separate entity, with its own management and Board of Directors. In 1985, Hertz joined UAL, Inc. On December 30, 1987, Hertz was sold to Park Ridge Corporation, a company formed by Ford Motor Company and Hertz management, for the purpose of purchasing Hertz. In 1988, Volvo North America Corporation joined Ford and Hertz management as an investor in Park Ridge Corporation. In 1993, Park Ridge Corporation was merged into The Hertz Corporation. In 1994, Ford purchased the outstanding shares of Hertz and Hertz became an independent, wholly owned subsidiary of The Ford Motor Company. On April 25, 1997, Hertz became a publicly traded company, listed on the New York Stock Exchange, under the symbol \"HRZ.\" Hertz Today Hertz is headquartered in Park Ridge, New Jersey. Its current headquarters location opened in 1988. Prior to that the corporation was based in New York and, before that, Chicago. Oklahoma City, Oklahoma, is the site of Hertz' Worldwide Reservations Center and Data Center, established in 1970, and its Financial Center, established in 1994. Car rentals, the largest and best known of Hertz' activities, are conducted from more than 1,600 domestic, corporate and licensee locations, and approximately 4,500 corporate and licensee locations outside the United States. Hertz offers a wide variety of current-model cars on a short-term rental basis -- daily, weekly or monthly -- at airports, in downtown and suburban business centers, and in residential areas and resort locales. Today, Hertz' Worldwide Reservations System handles approximately 40 million phone calls and delivers in total approximately 30 million reservations annually This Authentic certificate looks great framed and is much nicer in person than the scan indicates. For further information about our auction item for sale, please click here or feel free to call our toll free number at 1-888-STOCKS6 or Direct at 703-787-3552. We sometimes use an image of the same type of certificate that is for sale. The certificate for sale will be the same in all material respects i.e. type, era, vignette, logo, etc. Don't stay awake suffering from Internet Auction ANGST , check out our Scripophily Auction Guarantee. We offer a 7 day no hassle satisfaction guarantee return policy in the event you are dissatisfied for any reason and a lifetime return policy if you find the item not to be authentic. To the best of our knowledge, everything we sell is 100% authentic and we do not sell reproductions of stock and bond certificates. There are not many companies who offer this type of guarantee in an auction. Our company has over 2,800 positive feedback comments on EBAY and we strive for 100% customer satisfaction. This will make a nice addition to your collection or a terrific historical gift for someone special. A $3.95 Priority Mail shipping charge(our cost in heavy cardboard envelope) to be paid by buyer for shipping within the United States. We will also ship anywhere in the world using Priority Mail and you will be charged our cost. If you buy other items from our auctions or web site, you only pay postage once if we mail everything together. We accept Visa, Mastercard, American Express, Paypal and Billpoint, checks and money orders. Please note that as with all of our certificates, we are not selling ownership interests or transferring any rights in the company, but we are selling an authentic stock certificate as a collectible. Our Company is a leader on the internet in buying, selling and researching collectible stock and bond certificates. We have been in business selling certificates for over 11 years. We are also members of The American Institute of Certified Public Accountants, Washington Historical Autograph and Certificate Organization, Old Stock Exchange, EBAY Power Seller Program, Universal Autographs Collectors Club, and The International Bond and Share Society. Our Company is a name you can Trust. Contact auctions@Scripophily.com with Questions View some of our feedback on Ebay CLICK HERE! View our other auctions currently on Ebay CLICK HERE!</td>\n",
       "        <td>None</td>\n",
       "        <td>scripophily.com</td>\n",
       "    </tr>\n",
       "    <tr>\n",
       "        <td>1043608482</td>\n",
       "        <td>Hallmark TIN Mail Truck Series</td>\n",
       "        <td>7.95</td>\n",
       "        <td>7.95</td>\n",
       "        <td>0</td>\n",
       "        <td>2001-12-04 08:10:20</td>\n",
       "        <td>2001-12-14 08:10:20</td>\n",
       "        <td>This ornie is mint in mint box. It has never been displayed. It comes from a smoke free home. I charge $5.00 to ship Priority insured mail by USPS. I can usually ship as many as 3 ornies for the price of one. I accept Paypal, checks. and money orders. I ship the next day on Money orders and Paypal. If you have at least 10 Positive feedbacks with no negatives I do not hold your check for clearnace. Thanks for looking Gracie</td>\n",
       "        <td>11.17</td>\n",
       "        <td>gracie3@kc.rr.com</td>\n",
       "    </tr>\n",
       "    <tr>\n",
       "        <td>1043650580</td>\n",
       "        <td>Authentic Avon Quartz Silver/Gold Watch NIB</td>\n",
       "        <td>24.99</td>\n",
       "        <td>24.99</td>\n",
       "        <td>0</td>\n",
       "        <td>2001-12-04 10:30:55</td>\n",
       "        <td>2001-12-14 10:30:55</td>\n",
       "        <td>This is new in the box bought for Avon representitives to wear. Made with high quality quartz movement which provides accuracy within seconds per month. Silver &amp; gold adjustable band, gold face with \"Let's Talk Avon\", surrounded with diamonds around the face. 2000 Item, save &amp; keep as a collectible for years to come! Ship $4, paypal/money orders ship same day, personal checks held 10 days. Buy it now &amp; have in time for the holidays! Great gift to give your Avon Rep.! See my other auctions &amp; combine sales to save on shipping. No PO Boxes. Must close in 10 days from auction end. Free Honesty Counters powered by Andale! Payment Details U.S. Shipping and Handling $4.00 Shipping Insurance per item (optional) $1.10 Sales Tax (0.000% if shipped to none) _ Learn more about checkout Payment Instructions &amp;lt;!-- Begin PayPal Logo --&amp;gt; &amp;lt;A HREF=</td>\n",
       "        <td>None</td>\n",
       "        <td>nikkinap</td>\n",
       "    </tr>\n",
       "</table>"
      ],
      "text/plain": [
       "[(1043374545, u'christopher radko &#124; fritz n_ frosty sledding', 30.0, 30.0, 0, u'2001-12-03 18:10:40', u'2001-12-13 18:10:40', u\"brand new beautiful handmade european blown glass ornament from christopher radko. this particular ornament features a snowman paired with a little  ... (1494 characters truncated) ... n and Payment Instructions, or contact seller for more information. Payment Instructions See item description or contact seller for more information.\", None, u'rulabula'),\n",
       " (1043397459, u'PM BOY AND GIRL EXCLUSIVE EVENT PIECE LE', 99.99, 99.99, 0, u'2001-12-03 18:38:23', u'2001-12-13 18:38:23', u'YOU ARE ALWAYS IN MY HEART IS THE NAME OF IT ,HAS A BOY AND A GIRL EACH SITTING IN A HEART SHAPED SHELL ON A BENCH THESE PIECES ARE RARE AND EXCLUSIVE YOU GET BOTH PIECES IN YOUR BID THEY ARE MINT NEVER BEEN DISPLAYED BRAND NEW IN BOXES .... ALSO TAKE PAYPALBUYER PAYS 8.00 SHIPPING', None, u'dollface94'),\n",
       " (1043402767, u'Precious Moments Girl Stove Mini Tea Set', 4.0, 4.0, 1, u'2001-12-03 18:44:54', u'2001-12-13 18:44:54', u'PRECIOUS MOMENTS GIRL/STOVE MINI TEA SET: This really cute little mini decorative teaset is mint in box. It was only removed for photo. It is about 6 inches across. Original price was $20.00. Buyer to pay postage and handling of $4.50 for delivery in USA.', None, u'fallsantiques'),\n",
       " (1043402785, u'Beatrix Potter Tailor of Gloucester Shakers', 3.5, 3.5, 0, u'2001-12-03 18:44:55', u'2001-12-13 18:44:55', u'BEATRIX POTTER TAILOR OF GLOUSCESTER SHAKERS: Really cute set of figural salt and pepper shakers of the mouse tailor and two spools of thread. It is mint in box. Original price was $15.00. Buyer to pay postage and handling of $4.50 for delivery in USA.', None, u'fallsantiques'),\n",
       " (1043495702, u'Precious Moments Fig-ANGEL OF MERCY- NURSE', 28.0, 9.99, 6, u'2001-12-03 20:40:07', u'2001-12-13 20:40:07', u\"Precious Moments Fig-ANGEL OF MERCY- NURSE Click picture to enlarge Makes a great gift for Collectors Description Up for bids is this great figurine ... (1973 characters truncated) ...  enlarge _ Click picture to enlarge _ Click picture to enlarge _ Click picture to enlarge _ Use the REAL selling tools a million sellers do - Andale!\", None, u'lwm123'),\n",
       " (1043506302, u'DREAMSICLES suncatcher \"LOVE LETTERS\" new/nr', 6.0, 6.0, 0, u'2001-12-03 20:59:45', u'2001-12-13 20:59:45', u'DREAMSICLES suncatcher \"LOVE LETTERS\" new/nr Description LOVE LETTERS ! AWARD-WINNING ARTIST KRISTIN HAYNES SHARES HER HEARTWARMING, INSPIRATIONAL A ... (1030 characters truncated) ... inner notice to insure quick shipment. ALL MERCHANDISE IS GUARANTEED 100% eBay\\'s most successful sellers use Auctionworks sales management services!', None, u'dmaley'),\n",
       " (1043562035, u'Town Crier CD102', 15.0, 15.0, 0, u'2001-12-04 03:09:56', u'2001-12-14 03:09:56', u'Dreamsicle Club Members Only Figurine 1995 4 1/2\" Issued:1995 * Retired:1995 This piece is in mint condition and in the original box. Free Honesty C ... (62 characters truncated) ... n and Payment Instructions, or contact seller for more information. Payment Instructions See item description or contact seller for more information.', None, u'sharkbud'),\n",
       " (1043565691, u\"Hertz Corporation Bond Certificate 1970's\", 24.95, 24.95, 0, u'2001-12-04 04:02:04', u'2001-12-14 04:02:04', u'Scripophily Makes a Great Gift for Everyone Our Stocks are worth the paper they\\'re printed on (sm) Our Company is a TRUSTED Buyer and Seller of Old ... (6396 characters truncated) ... . Contact auctions@Scripophily.com with Questions View some of our feedback on Ebay CLICK HERE! View our other auctions currently on Ebay CLICK HERE!', None, u'scripophily.com'),\n",
       " (1043608482, u'Hallmark TIN Mail Truck Series', 7.95, 7.95, 0, u'2001-12-04 08:10:20', u'2001-12-14 08:10:20', u'This ornie is mint in mint box. It has never been displayed. It comes from a smoke free home. I charge $5.00 to ship Priority insured mail by USPS.  ... (129 characters truncated) ... ney orders and Paypal. If you have at least 10 Positive feedbacks with no negatives I do not hold your check for clearnace. Thanks for looking Gracie', 11.17, u'gracie3@kc.rr.com'),\n",
       " (1043650580, u'Authentic Avon Quartz Silver/Gold Watch NIB', 24.99, 24.99, 0, u'2001-12-04 10:30:55', u'2001-12-14 10:30:55', u'This is new in the box bought for Avon representitives to wear. Made with high quality quartz movement which provides accuracy within seconds per mo ... (554 characters truncated) ...  (optional) $1.10 Sales Tax (0.000% if shipped to none) _ Learn more about checkout Payment Instructions &lt;!-- Begin PayPal Logo --&gt; &lt;A HREF=', None, u'nikkinap')]"
      ]
     },
     "execution_count": 23,
     "metadata": {},
     "output_type": "execute_result"
    }
   ],
   "source": [
    "%%sql\n",
    "SELECT *\n",
    "FROM Users\n",
    "LIMIT 10\n"
   ]
  },
  {
   "cell_type": "code",
   "execution_count": 12,
   "metadata": {},
   "outputs": [
    {
     "name": "stdout",
     "output_type": "stream",
     "text": [
      " * sqlite:///./ebay.db\n",
      "0 rows affected.\n"
     ]
    },
    {
     "data": {
      "text/plain": [
       "[]"
      ]
     },
     "execution_count": 12,
     "metadata": {},
     "output_type": "execute_result"
    }
   ],
   "source": [
    "%%sql\n",
    "DELETE\n",
    "FROM Items"
   ]
  },
  {
   "cell_type": "code",
   "execution_count": null,
   "metadata": {},
   "outputs": [],
   "source": []
  }
 ],
 "metadata": {
  "kernelspec": {
   "display_name": "Python 2",
   "language": "python",
   "name": "python2"
  },
  "language_info": {
   "codemirror_mode": {
    "name": "ipython",
    "version": 2
   },
   "file_extension": ".py",
   "mimetype": "text/x-python",
   "name": "python",
   "nbconvert_exporter": "python",
   "pygments_lexer": "ipython2",
   "version": "2.7.15"
  }
 },
 "nbformat": 4,
 "nbformat_minor": 2
}
